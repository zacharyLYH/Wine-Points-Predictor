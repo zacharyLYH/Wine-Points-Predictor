{
  "cells": [
    {
      "cell_type": "code",
      "execution_count": 1,
      "metadata": {
        "colab": {
          "base_uri": "https://localhost:8080/"
        },
        "id": "wp7c8kEINHxE",
        "outputId": "81969fca-e1ce-4cd7-bf9b-b65aa3c46c79"
      },
      "outputs": [],
      "source": [
        "import pandas as ps\n",
        "import numpy as np\n",
        "from scipy import stats\n",
        "# from google.colab import drive\n",
        "\n",
        "def openFile(path):\n",
        "    return ps.read_csv(path, index_col=0) #index_col=0 has the effect of excluding any unnamed fields\n",
        "\n",
        "def toDF(rawData):\n",
        "    return ps.DataFrame(rawData)\n",
        "\n",
        "# drive.mount('/content/drive')\n",
        "df = toDF(openFile('cleaned.csv'))\n",
        "df = df[(np.abs(stats.zscore(df[[\"year\", \"price\", \"points\"]])) < 3).all(axis=1)]"
      ]
    },
    {
      "cell_type": "code",
      "execution_count": 2,
      "metadata": {
        "id": "44iK3sMGPFPr"
      },
      "outputs": [],
      "source": [
        "from scipy import stats\n",
        "from sklearn.model_selection import train_test_split\n",
        "from sklearn.linear_model import LinearRegression\n",
        "from sklearn.preprocessing import StandardScaler\n",
        "from sklearn.neighbors import KNeighborsClassifier\n",
        "from sklearn.metrics import classification_report\n",
        "from sklearn.cluster import KMeans\n",
        "import matplotlib.pyplot as plt\n"
      ]
    },
    {
      "cell_type": "markdown",
      "metadata": {
        "id": "WM_UVw0yld0h"
      },
      "source": [
        "# Basic Linear Regression 1/5"
      ]
    },
    {
      "cell_type": "code",
      "execution_count": 3,
      "metadata": {
        "colab": {
          "base_uri": "https://localhost:8080/",
          "height": 447
        },
        "id": "A8-9q4v5Qr6z",
        "outputId": "ab40cc43-3b9e-4a67-d811-3de10d1e8f0d"
      },
      "outputs": [
        {
          "data": {
            "text/plain": [
              "0.2958711829499171"
            ]
          },
          "execution_count": 3,
          "metadata": {},
          "output_type": "execute_result"
        },
        {
          "data": {
            "image/png": "[encoded data removed]",
            "text/plain": [
              "<Figure size 432x288 with 1 Axes>"
            ]
          },
          "metadata": {
            "needs_background": "light"
          },
          "output_type": "display_data"
        }
      ],
      "source": [
        "x = df[\"points\"].values.reshape(-1,1)\n",
        "y = df[\"price\"].values.reshape(-1,1)\n",
        "\n",
        "x_train, x_test, y_train, y_test = train_test_split(x,y, test_size=0.25, random_state=42)\n",
        "model = LinearRegression()\n",
        "model.fit(x_train,y_train)\n",
        "plt.scatter(x, y)\n",
        "plt.plot(x, model.predict(x), color='red')\n",
        "model.score(x_test,y_test)"
      ]
    },
    {
      "cell_type": "code",
      "execution_count": 4,
      "metadata": {
        "colab": {
          "base_uri": "https://localhost:8080/"
        },
        "id": "seBww7La4LGr",
        "outputId": "0d526052-7a53-4c74-b658-3bd92f2a136d"
      },
      "outputs": [
        {
          "data": {
            "text/plain": [
              "0.29587089206788264"
            ]
          },
          "execution_count": 4,
          "metadata": {},
          "output_type": "execute_result"
        }
      ],
      "source": [
        "x = df[[\"year\",\"points\"]].values\n",
        "y = df[\"price\"].values.reshape(-1,1)\n",
        "x_train, x_test, y_train, y_test = train_test_split(x,y, test_size=0.25, random_state=42)\n",
        "model = LinearRegression()\n",
        "model.fit(x_train,y_train)\n",
        "model.score(x_test,y_test)"
      ]
    },
    {
      "cell_type": "markdown",
      "metadata": {
        "id": "xl0s1LxnlmDc"
      },
      "source": [
        "# Polynomial Regression 2/5"
      ]
    },
    {
      "cell_type": "code",
      "execution_count": 5,
      "metadata": {
        "colab": {
          "base_uri": "https://localhost:8080/",
          "height": 447
        },
        "id": "jFcs6-rT4TjU",
        "outputId": "b6585156-e6dc-4777-a16b-46bc4f0ba272"
      },
      "outputs": [
        {
          "name": "stdout",
          "output_type": "stream",
          "text": [
            "0.3348578448759959\n"
          ]
        },
        {
          "data": {
            "image/png": "[encoded data removed]",
            "text/plain": [
              "<Figure size 432x288 with 1 Axes>"
            ]
          },
          "metadata": {
            "needs_background": "light"
          },
          "output_type": "display_data"
        }
      ],
      "source": [
        "#https://data36.com/polynomial-regression-python-scikit-learn/\n",
        "from sklearn.preprocessing import PolynomialFeatures\n",
        "import matplotlib.pyplot as plt\n",
        "poly = PolynomialFeatures(degree=2, include_bias=False)\n",
        "x = df[\"points\"].values.reshape(-1,1)\n",
        "y = df[\"price\"].values.reshape(-1,1)\n",
        "poly_features = poly.fit_transform(x)\n",
        "x_train, x_test, y_train, y_test = train_test_split(poly_features, y, test_size=0.25, random_state=42)\n",
        "poly_reg_model = LinearRegression()\n",
        "poly_reg_model.fit(x_train, y_train)\n",
        "plt.scatter(x, y)\n",
        "plt.plot(x, poly_reg_model.predict(poly_features), color='red')\n",
        "print(poly_reg_model.score(x_test,y_test))"
      ]
    },
    {
      "cell_type": "markdown",
      "metadata": {
        "id": "uO9kJVjOl34C"
      },
      "source": [
        "# K-Means by year and points, then a linear regression 3/5"
      ]
    },
    {
      "cell_type": "code",
      "execution_count": 6,
      "metadata": {
        "colab": {
          "base_uri": "https://localhost:8080/"
        },
        "id": "mNleVVnmk67L",
        "outputId": "9a9be698-8cb4-445c-fe87-562413e3bcf6"
      },
      "outputs": [
        {
          "name": "stderr",
          "output_type": "stream",
          "text": [
            "C:\\Users\\Bing Xiong\\AppData\\Local\\Packages\\PythonSoftwareFoundation.Python.3.9_qbz5n2kfra8p0\\LocalCache\\local-packages\\Python39\\site-packages\\sklearn\\cluster\\_kmeans.py:870: FutureWarning: The default value of `n_init` will change from 10 to 'auto' in 1.4. Set the value of `n_init` explicitly to suppress the warning\n",
            "  warnings.warn(\n"
          ]
        },
        {
          "name": "stdout",
          "output_type": "stream",
          "text": [
            "Number of clusters:  2\n",
            "Cluster number 0 : 0.004994727162712431\n",
            "Cluster number 1 : 0.016284354470894713\n",
            "\n"
          ]
        },
        {
          "name": "stderr",
          "output_type": "stream",
          "text": [
            "C:\\Users\\Bing Xiong\\AppData\\Local\\Packages\\PythonSoftwareFoundation.Python.3.9_qbz5n2kfra8p0\\LocalCache\\local-packages\\Python39\\site-packages\\sklearn\\cluster\\_kmeans.py:870: FutureWarning: The default value of `n_init` will change from 10 to 'auto' in 1.4. Set the value of `n_init` explicitly to suppress the warning\n",
            "  warnings.warn(\n"
          ]
        },
        {
          "name": "stdout",
          "output_type": "stream",
          "text": [
            "Number of clusters:  3\n",
            "Cluster number 0 : 0.03722537658071001\n",
            "Cluster number 1 : 0.10900762808118725\n",
            "Cluster number 2 : 0.016529023457460545\n",
            "\n"
          ]
        },
        {
          "name": "stderr",
          "output_type": "stream",
          "text": [
            "C:\\Users\\Bing Xiong\\AppData\\Local\\Packages\\PythonSoftwareFoundation.Python.3.9_qbz5n2kfra8p0\\LocalCache\\local-packages\\Python39\\site-packages\\sklearn\\cluster\\_kmeans.py:870: FutureWarning: The default value of `n_init` will change from 10 to 'auto' in 1.4. Set the value of `n_init` explicitly to suppress the warning\n",
            "  warnings.warn(\n"
          ]
        },
        {
          "name": "stdout",
          "output_type": "stream",
          "text": [
            "Number of clusters:  4\n",
            "Cluster number 0 : 0.014997125762881147\n",
            "Cluster number 1 : 0.010200711291786124\n",
            "Cluster number 2 : 0.11135543578802143\n",
            "Cluster number 3 : 0.009931316330966222\n",
            "\n"
          ]
        }
      ],
      "source": [
        "numCluster = 4\n",
        "scaler = StandardScaler()\n",
        "scaled_kmeans = ps.DataFrame(scaler.fit_transform(df[[\"price\", \"points\", \"year\"]]),columns=[\"price\",\"points\", \"year\"])\n",
        "newDF = ps.DataFrame()\n",
        "newDF['points'] = df.points\n",
        "newDF['year'] = df.year\n",
        "newDF['price'] = df.price\n",
        "\n",
        "for i in range(2, numCluster+1):\n",
        "  kmeans = KMeans(n_clusters = i).fit(scaled_kmeans)\n",
        "  newDF['label'] = kmeans.labels_\n",
        "  print(\"Number of clusters: \", i)\n",
        "  for j in range(0, i):\n",
        "    x = newDF[newDF.label == j][[\"points\", \"year\"]].values\n",
        "    y = newDF[newDF.label == j][\"price\"].values.reshape(-1,1)\n",
        "    x_train, x_test, y_train, y_test = train_test_split(x,y, test_size=0.25, random_state=42)\n",
        "    model = LinearRegression()\n",
        "    model.fit(x_train,y_train)\n",
        "    print(\"Cluster number \" + str(j) + \" : \" + str(model.score(x_test,y_test)))\n",
        "  print()"
      ]
    },
    {
      "cell_type": "markdown",
      "metadata": {
        "id": "6p1jvhLqmBUy"
      },
      "source": [
        "# Logistic Regression with K-Means on price 4/5"
      ]
    },
    {
      "cell_type": "code",
      "execution_count": 7,
      "metadata": {
        "colab": {
          "base_uri": "https://localhost:8080/"
        },
        "id": "l6dzC4nUbQMH",
        "outputId": "03742861-3d5d-4bc1-dd4c-7c4703e77824"
      },
      "outputs": [
        {
          "name": "stderr",
          "output_type": "stream",
          "text": [
            "C:\\Users\\Bing Xiong\\AppData\\Local\\Packages\\PythonSoftwareFoundation.Python.3.9_qbz5n2kfra8p0\\LocalCache\\local-packages\\Python39\\site-packages\\sklearn\\cluster\\_kmeans.py:870: FutureWarning: The default value of `n_init` will change from 10 to 'auto' in 1.4. Set the value of `n_init` explicitly to suppress the warning\n",
            "  warnings.warn(\n",
            "C:\\Users\\Bing Xiong\\AppData\\Local\\Packages\\PythonSoftwareFoundation.Python.3.9_qbz5n2kfra8p0\\LocalCache\\local-packages\\Python39\\site-packages\\sklearn\\utils\\validation.py:1143: DataConversionWarning: A column-vector y was passed when a 1d array was expected. Please change the shape of y to (n_samples, ), for example using ravel().\n",
            "  y = column_or_1d(y, warn=True)\n"
          ]
        },
        {
          "data": {
            "text/plain": [
              "0.691538684439293"
            ]
          },
          "execution_count": 7,
          "metadata": {},
          "output_type": "execute_result"
        }
      ],
      "source": [
        "from sklearn.linear_model import LogisticRegression\n",
        "\n",
        "clusterPrices = KMeans(n_clusters = 3).fit(df[[\"price\"]])\n",
        "logRegDF = ps.DataFrame()\n",
        "logRegDF[\"year\"] = df.year\n",
        "logRegDF[\"points\"] = df.points\n",
        "logRegDF['label'] = clusterPrices.labels_\n",
        "\n",
        "x = logRegDF[[\"year\",\"points\"]].values\n",
        "y = logRegDF[\"label\"].values.reshape(-1,1)\n",
        "\n",
        "x_train, x_test, y_train, y_test = train_test_split(x,y, test_size=0.25, random_state=42)\n",
        "\n",
        "logreg = LogisticRegression(random_state=16)\n",
        "\n",
        "logreg.fit(x_train, y_train)\n",
        "\n",
        "logreg.score(x_test,y_test)"
      ]
    },
    {
      "cell_type": "markdown",
      "metadata": {
        "id": "Zzsch5RlmYfc"
      },
      "source": [
        "# Model found outside class 5/5"
      ]
    },
    {
      "cell_type": "code",
      "execution_count": 8,
      "metadata": {
        "colab": {
          "base_uri": "https://localhost:8080/"
        },
        "id": "JbQ_UhHH0YcD",
        "outputId": "f6099ac8-8c63-48a9-d893-7af122bfa747"
      },
      "outputs": [
        {
          "data": {
            "text/plain": [
              "0.3424658510773535"
            ]
          },
          "execution_count": 8,
          "metadata": {},
          "output_type": "execute_result"
        }
      ],
      "source": [
        "#https://www.saedsayad.com/decision_tree_reg.htm\n",
        "from sklearn.tree import DecisionTreeRegressor\n",
        "\n",
        "x = df[[\"price\",\"year\"]].values\n",
        "y = df[\"points\"].values.reshape(-1,1)\n",
        "\n",
        "x_train, x_test, y_train, y_test = train_test_split(x,y, test_size=0.25, random_state=42)\n",
        "dtr = DecisionTreeRegressor(max_depth=12)\n",
        "dtr.fit(x_train, y_train)\n",
        "dtr.score(x_test,y_test)"
      ]
    },
    {
      "cell_type": "code",
      "execution_count": 9,
      "metadata": {
        "colab": {
          "base_uri": "https://localhost:8080/"
        },
        "id": "RyZP0sLHb1Y3",
        "outputId": "c7ff60ec-a2c2-4c55-ea72-2cb0de4dbdd3"
      },
      "outputs": [
        {
          "name": "stdout",
          "output_type": "stream",
          "text": [
            "{'US': 0, 'Spain': 1, 'Italy': 2, 'France': 3, 'Argentina': 4, 'Australia': 5, 'Canada': 6}\n",
            "{'Willamette Valley': 0, 'Lake Michigan Shore': 1, 'Navarra': 2, 'Vittoria': 3, 'Alsace': 4, 'Napa Valley': 5, 'Alexander Valley': 6, 'Central Coast': 7, 'Cafayate': 8, 'Mendoza': 9, 'Ribera del Duero': 10, 'Virginia': 11, 'Oregon': 12, 'Sicilia': 13, 'Paso Robles': 14, 'Sonoma Coast': 15, 'Terre Siciliane': 16, 'Cerasuolo di Vittoria': 17, 'Clarksburg': 18, 'Dry Creek Valley': 19, 'Sonoma Valley': 20, 'McMinnville': 21, 'Puglia': 22, 'Beaujolais': 23, 'Lake County': 24, 'Monticello': 25, 'Brouilly': 26, 'Monica di Sardegna': 27, 'Bordeaux Blanc': 28, 'North Coast': 29, 'Columbia Valley (WA)': 30, 'Romagna': 31, 'Santa Ynez Valley': 32, 'Chablis': 33, 'Mâcon-Milly Lamartine': 34, 'California': 35, 'Aglianico del Vulture': 36, 'Howell Mountain': 37, 'Calistoga': 38, 'South Australia': 39, 'Eola-Amity Hills': 40, 'Rías Baixas': 41, 'Vin de France': 42, 'McLaren Vale': 43, 'Ancient Lakes': 44, 'Knights Valley': 45, 'Vernaccia di San Gimignano': 46, 'Toscana': 47, 'Sonoma County': 48, 'Juliénas': 49, 'Régnié': 50, 'Finger Lakes': 51, 'Morellino di Scansano': 52, 'Santa Clara Valley': 53, 'Yountville': 54, 'Barolo': 55, 'Rockpile': 56, 'Padthaway': 57, 'Saint-Émilion': 58, \"Barbera d'Alba\": 59, 'Santa Lucia Highlands': 60, 'Spring Mountain District': 61, 'Monterey': 62, 'Carmel Valley': 63, 'Dominio de Valdepusa': 64, 'Santa Cruz Mountains': 65, 'Chianti Classico': 66, 'Cahors': 67, 'Edna Valley': 68, 'Madiran': 69, 'Russian River Valley': 70, 'Alto Adige': 71, 'Arroyo Seco': 72, 'Salta': 73, 'Anderson Valley': 74, 'Campania': 75, 'Rosso del Veronese': 76, 'St.-Romain': 77, 'Vino Nobile di Montepulciano': 78, 'Nevada County': 79, 'Côtes du Rhône': 80, 'Vacqueyras': 81, 'Rueda': 82, 'Brunello di Montalcino': 83, 'Luján de Cuyo': 84, 'Cayuga Lake': 85, \"Montepulciano d'Abruzzo\": 86, 'Santa Barbara County': 87, 'Diamond Mountain District': 88, 'Mendocino': 89, 'Vin de Pays des Côtes de Gascogne': 90, 'Vino de la Tierra de Castilla y León': 91, 'San Juan': 92, 'Adelaide Hills': 93, 'Sonoma Mountain': 94, 'Amador County': 95, 'St. Helena': 96, 'Cole Ranch': 97, 'Santa Maria Valley': 98, 'Torgiano': 99, 'Veneto': 100, 'Colli Orientali del Friuli': 101, 'Uco Valley': 102, 'Monferrato': 103, 'Dundee Hills': 104, 'Arroyo Grande Valley': 105, 'Montsant': 106, 'Arbois': 107, 'Barossa Valley': 108, 'Tupungato': 109, 'Mendocino County': 110, 'Côte de Nuits-Villages': 111, 'Langhe': 112, 'Prosecco di Valdobbiadene': 113, 'Prosecco di Conegliano': 114, 'Languedoc': 115, 'Coteaux Varois en Provence': 116, 'Heathcote': 117, 'Chassagne-Montrachet': 118, 'Clare Valley': 119, 'Bianco di Custoza': 120, 'Friuli': 121, 'Soave': 122, 'Collio': 123, 'Trentino': 124, 'Valdadige': 125, 'Rutherford': 126, 'Prosecco di Conegliano e Valdobbiadene': 127, 'Prosecco del Veneto': 128, 'Graves': 129, 'Walla Walla Valley (WA)': 130, 'New York': 131, 'Rioja': 132, 'North Fork of Long Island': 133, 'Wahluke Slope': 134, 'Templeton Gap District': 135, 'Snipes Mountain': 136, 'Gavi': 137, 'Bierzo': 138, 'Long Island': 139, 'Etna': 140, 'Muscadet Sèvre et Maine': 141, 'Franciacorta': 142, 'Niagara-On-The-Lake': 143, 'Carneros': 144, 'Ribbon Ridge': 145, 'Meursault': 146, 'Champagne': 147, 'Amarone della Valpolicella': 148, 'Chambolle-Musigny': 149, 'Pomerol': 150, 'Cannonau di Sardegna': 151, 'Red Mountain': 152, 'Isola dei Nuraghi': 153, 'Sta. Rita Hills': 154, 'Côtes du Rhône Villages': 155, 'Friuli Grave': 156, 'El Dorado': 157, 'Suisun Valley': 158, 'Côtes de Provence': 159, 'Lodi': 160, 'Venezia Giulia': 161, 'Yakima Valley': 162, 'Monterey County': 163, 'Chiles Valley': 164, 'Mercurey': 165, 'Calaveras County': 166, 'Chehalem Mountains': 167, 'Horse Heaven Hills': 168, 'Umpqua Valley': 169, 'Alto Adige Valle Isarco': 170, 'Ballard Canyon': 171, 'Green Valley': 172, \"Coteaux d'Aix-en-Provence\": 173, 'Côtes de Provence Sainte-Victoire': 174, 'Sierra Foothills': 175, 'Yolo County': 176, \"Dolcetto d'Alba\": 177, 'Bordeaux Supérieur': 178, 'Costières de Nîmes': 179, 'Bordeaux': 180, 'Washington': 181, 'Columbia Gorge (WA)': 182, 'Oak Knoll District': 183, 'Rogue Valley': 184, 'Northern Sonoma': 185, 'Soave Classico': 186, 'Conegliano Valdobbiadene Prosecco Superiore': 187, 'Idaho': 188, 'Gambellara Classico': 189, 'Yarra Valley': 190, 'Great Southern': 191, 'Mokelumne River': 192, 'Los Carneros': 193, 'Mount Veeder': 194, 'Dogliani Superiore': 195, 'Valencia': 196, 'Cortona': 197, 'Piemonte': 198, 'Colli della Toscana Centrale': 199, 'Livermore Valley': 200, 'Valle de Uco': 201, 'Mâcon-Villages': 202, 'Texas': 203, 'Côte Chalonnaise': 204, 'Chorey-lès-Beaune': 205, 'Calchaquí Valley': 206, 'Coteaux Bourguignons': 207, 'Saint-Véran': 208, 'Barbaresco': 209, 'South Eastern Australia': 210, 'Temecula Valley': 211, 'Tasmania': 212, 'Cariñena': 213, 'Vin Santo del Chianti Classico': 214, 'Trento': 215, 'Perdriel': 216, 'Médoc': 217, 'Haut-Médoc': 218, 'Fronsac': 219, 'Margaux': 220, 'Mornington Peninsula': 221, 'Verdicchio dei Castelli di Jesi Classico': 222, 'Vino de la Tierra de Castilla': 223, 'Mendocino Ridge': 224, 'Beaujolais-Villages': 225, 'Côtes de Gascogne': 226, 'Rosso di Montalcino': 227, 'Côtes du Lot': 228, 'Moulin-à-Vent': 229, \"Nebbiolo d'Alba\": 230, 'Gevrey-Chambertin': 231, 'Beaune': 232, 'Sannio': 233, 'Priorat': 234, 'Saint-Estèphe': 235, 'Minervois': 236, 'Texas High Plains': 237, 'Vista Flores': 238, 'Shenandoah Valley (CA)': 239, 'Blaye Côtes de Bordeaux': 240, 'Jumilla': 241, 'Coste della Sesia': 242, 'Yorkville Highlands': 243, 'Penedès': 244, 'Lugana': 245, 'Primitivo di Manduria': 246, 'Amarone della Valpolicella Classico': 247, 'Piave': 248, 'Gaillac': 249, 'Sancerre': 250, 'Barossa': 251, 'Montravel': 252, 'Quincy': 253, 'Pouilly-Fumé': 254, 'Coonawarra': 255, 'Happy Canyon of Santa Barbara': 256, 'Valdeorras': 257, 'Bizkaiko Txakolina': 258, 'Walla Walla Valley (OR)': 259, 'Isonzo del Friuli': 260, 'Monbazillac': 261, 'Patrimonio': 262, 'Saumur-Champigny': 263, 'Cava': 264, 'Rosso di Montepulciano': 265, 'Gers': 266, 'Crémant de Jura': 267, 'Seneca Lake': 268, 'Naches Heights': 269, 'Basilicata': 270, 'Hudson River Region': 271, 'Napa-Sonoma': 272, 'Pouilly-Fuissé': 273, 'Goulburn Valley': 274, 'Bennett Valley': 275, 'Paso Robles Willow Creek District': 276, 'Montagne-Saint-Émilion': 277, 'La Mancha': 278, 'Contra Costa County': 279, 'Michigan': 280, 'Uclés': 281, 'Greco di Tufo': 282, 'Stags Leap District': 283, \"Valle d'Aosta\": 284, 'Fair Play': 285, 'Menetou-Salon': 286, 'Fronton': 287, 'Bergerac': 288, 'Salento': 289, 'Bordeaux Rosé': 290, 'Pennsylvania': 291, 'Les Baux de Provence': 292, 'Southern Oregon': 293, 'Old Mission Peninsula': 294, 'Alto Adige Terlano': 295, 'Dunnigan Hills': 296, 'Coombsville': 297, 'Bandol': 298, 'Nuits-St.-Georges': 299, 'Vigneti delle Dolomiti': 300, 'Montefalco Rosso': 301, 'Sagrantino di Montefalco': 302, 'Umbria': 303, 'Faro': 304, 'Chénas': 305, 'Jurançon': 306, 'Saumur': 307, 'Alella': 308, 'Bardolino Chiaretto': 309, 'Murgia': 310, 'Bolgheri Superiore': 311, 'Oakville': 312, 'Saint-Julien': 313, 'Lalande de Pomerol': 314, 'Pessac-Léognan': 315, 'Delia Nivolelli': 316, 'Cadillac Côtes de Bordeaux': 317, 'Maipú': 318, 'Touraine': 319, 'Middleburg': 320, 'Australia': 321, 'Reuilly': 322, 'Gattinara': 323, 'Margaret River': 324, 'Patagonia': 325, 'Entre-Deux-Mers': 326, 'Applegate Valley': 327, 'Châteauneuf-du-Pape': 328, 'Hermitage': 329, 'Maremma': 330, 'San Benito County': 331, 'Catalunya': 332, 'Ribeiro': 333, 'San Luis Obispo County': 334, 'Bolgheri': 335, 'Pauillac': 336, 'Alicante': 337, 'Vin de Savoie': 338, 'Almansa': 339, 'Mediterranée': 340, 'Chiroubles': 341, 'Saint-Amour': 342, 'Ribeira Sacra': 343, 'Leelanau Peninsula': 344, 'Getariako Txakolina': 345, 'Calatayud': 346, 'Outer Coastal Plain': 347, 'Coteaux du Languedoc': 348, 'Langhorne Creek': 349, 'Falerno del Massico': 350, 'Fiano di Avellino': 351, 'Vi de la Terra Illes Balears': 352, 'Santa Barbara': 353, 'Côtes de Bourg': 354, \"Barbera d'Asti Superiore\": 355, 'Saint-Georges-Saint-Émilion': 356, 'Vermentino di Sardegna': 357, 'Bergerac Sec': 358, 'Morgon': 359, \"Virginia's Eastern Shore\": 360, 'Delle Venezie': 361, 'Columbia Valley (OR)': 362, 'Listrac-Médoc': 363, 'Roero': 364, \"Barbera d'Asti\": 365, 'Tavel': 366, \"Barbera d'Alba Superiore\": 367, 'Recioto di Soave': 368, 'Ruché di Castagnole Monferrato': 369, 'Oltrepò Pavese': 370, 'Red Hills Lake County': 371, 'Toro': 372, 'Pemberton': 373, 'Rosé de Loire': 374, 'Côtes de Bordeaux': 375, 'South Coast': 376, 'Yecla': 377, 'Lake Erie': 378, 'Potter Valley': 379, 'Sonoma County-Napa County': 380, 'Givry': 381, 'Buzet': 382, 'Valpolicella Classico Superiore Ripasso': 383, 'Muscadet Côtes de Grandlieu': 384, 'Terra degli Osci': 385, 'Beaujolais Rosé': 386, 'Lambrusco di Modena': 387, 'Montefalco Sagrantino': 388, 'Lazio': 389, 'Chalk Hill': 390, 'Jerez': 391, 'Marche': 392, 'Cerasuolo di Vittoria Classico': 393, 'Frankland River': 394, 'Geographe': 395, 'Western Australia': 396, 'Niagara Peninsula': 397, 'Molise': 398, 'New Jersey': 399, 'Maury Sec': 400, 'Côtes du Roussillon Villages Caramany': 401, 'Redwood Valley': 402, 'Friuli Aquileia': 403, 'Ile de Beauté': 404, 'Cucamonga Valley': 405, \"Pays d'Oc\": 406, 'Gard': 407, 'Chianti Montespertoli': 408, 'Chianti Colli Senesi': 409, 'Fleurie': 410, 'Anjou Villages Brissac': 411, 'Fiddletown': 412, 'Bonnezeaux': 413, 'Bourgogne Hautes Côtes de Nuits': 414, \"Crémant d'Alsace\": 415, 'Mâcon-Péronne': 416, 'Augusta': 417, 'Saint-Bris': 418, 'New Mexico': 419, 'Nevada': 420, 'Adelaide Plains': 421, 'Castillon Côtes de Bordeaux': 422, 'Lessona': 423, 'Vino Spumante': 424, 'Boca': 425, 'Rivesaltes': 426, 'Valtellina Superiore': 427, 'Charmes-Chambertin': 428, 'Puligny-Montrachet': 429, 'Alto Valle del Río Negro': 430, 'Prosecco': 431, 'Paicines': 432, 'Condrieu': 433, 'Colline Pescaresi': 434, 'Sangiovese di Romagna Superiore': 435, 'Empordà': 436, 'Chianti': 437, 'Placer County': 438, 'Chianti Rufina': 439, 'Salice Salentino': 440, 'Mâcon-Chardonnay': 441, 'Ladoix': 442, 'Campo de Borja': 443, 'Santenay': 444, 'Viré-Clessé': 445, 'Eden Valley': 446, 'Spain': 447, 'La Consulta': 448, 'Napa County-Sonoma County': 449, 'Solano County': 450, 'Colline Novaresi': 451, 'Adelaide': 452, 'Agrelo': 453, 'Veneto Orientale': 454, 'Vin de Pays des Cévennes': 455, 'Luberon': 456, 'Adelaida District': 457, 'Taurasi': 458, 'Eloro': 459, 'Faugères': 460, 'Crémant de Limoux': 461, 'Piedmont': 462, 'Crémant de Bourgogne': 463, 'Valdobbiadene Prosecco Superiore': 464, 'Irpinia': 465, 'Picpoul de Pinet': 466, 'Côtes du Marmandais': 467, 'Cornas': 468, 'Chalone': 469, 'Ventoux': 470, 'Taburno': 471, 'Vouvray': 472, 'Columbia Gorge (OR)': 473, \"Trebbiano d'Abruzzo\": 474, 'Crémant de Loire': 475, 'Terra Alta': 476, 'Victoria': 477, 'Valdepeñas': 478, 'Friuli Colli Orientali': 479, 'Vosne-Romanée': 480, 'Recioto della Valpolicella Classico': 481, 'Gavi di Gavi': 482, 'Roero Arneis': 483, 'Dolcetto di Dogliani': 484, 'Neuquén': 485, \"Moscato d'Asti\": 486, 'Saint-Nicolas-de-Bourgueil': 487, 'Lake Chelan': 488, 'Roussette de Savoie': 489, 'Maremma Toscana': 490, 'Rattlesnake Hills': 491, 'El Dorado County': 492, 'Napa County': 493, 'Côtes de Nuits Villages': 494, 'Bourgogne Hautes Côtes de Beaune': 495, 'Saint-Aubin': 496, 'Marin County': 497, 'Conero': 498, 'Menfi': 499, 'Montilla-Moriles': 500, 'Río Negro Valley': 501, 'Pernand-Vergelesses': 502, 'Marsannay': 503, 'Málaga': 504, 'Auxey-Duresses': 505, 'Savigny-lès-Beaune': 506, 'Mâcon-Verze': 507, 'Saint-Joseph': 508, 'Frascati Superiore': 509, 'Volnay': 510, 'Fort Ross-Seaview': 511, 'Mt. Harlan': 512, \"Lambrusco dell'Emilia\": 513, 'Colli Aprutini': 514, \"Montepulciano d'Abruzzo Colline Teramane\": 515, 'Valpolicella Superiore Ripasso': 516, 'Valpolicella Classico Superiore': 517, 'Valpolicella Ripasso': 518, 'Cheverny': 519, 'Moulis-en-Médoc': 520, 'Forlì': 521, 'Colli Martani': 522, 'Cienega Valley': 523, 'Temecula': 524, 'Ghemme': 525, 'Carignano del Sulcis': 526, 'Alghero': 527, 'Anjou': 528, 'Minervois La Liviniere': 529, 'Corbières': 530, 'Marsala': 531, 'Sonoma-Napa': 532, 'Sauternes': 533, 'Grand Valley': 534, 'Colorado': 535, 'Chinon': 536, 'Okanagan Valley': 537, 'Clarendon': 538, 'Côtes du Jura': 539, 'Corton Les Renardes': 540, 'Coteaux du Giennois': 541, 'Aloxe-Corton': 542, 'Rosso Conero': 543, 'Falerio': 544, 'Verdicchio dei Castelli di Jesi': 545, 'Rosso Piceno': 546, 'Hunter Valley': 547, 'La Rioja': 548, 'Central Ranges': 549, 'Val di Cornia Suvereto': 550, 'Vin de Pays du Val de Loire': 551, 'Cochise County': 552, 'Pine Mountain-Cloverdale Peak': 553, 'Costers del Segre': 554, 'Verdicchio dei Castelli di Jesi Classico Superiore': 555, 'Custoza Superiore': 556, 'Veronese': 557, 'Val di Neto': 558, 'Big Valley District-Lake County': 559, 'San Antonio Valley': 560, 'Petit Chablis': 561, 'Bourgogne': 562, 'Sierra Pelona Valley': 563, 'Valpolicella': 564, 'Vin de Liqueur': 565, 'Francs Côtes de Bordeaux': 566, 'San Luis Obispo': 567, 'Famatina Valley': 568, 'Atlas Peak': 569, 'Puisseguin Saint-Émilion': 570, 'Orvieto Classico': 571, 'Bardolino': 572, 'Limestone Coast': 573, 'Mâcon-Azé': 574, 'Quarts de Chaume': 575, 'Pyrenees': 576, 'Prosecco Superiore di Cartizze': 577, 'High Valley': 578, 'Lambrusco Grasparossa di Castelvetro': 579, 'Vin Mousseux': 580, 'San Bernabe': 581, 'Vermentino di Gallura': 582, 'Ben Lomond Mountain': 583, 'Argentina': 584, 'Valdobbiadene Superiore di Cartizze': 585, \"Vin de Pays d'Oc\": 586, 'Morey-Saint-Denis': 587, 'Missouri': 588, 'Southeastern New England': 589, 'Grand River Valley': 590, 'Sonoita': 591, 'Corton-Charlemagne': 592, 'Maranges': 593, 'King Valley': 594, 'Pommard': 595, 'Costa Toscana': 596, 'Moscadello di Montalcino': 597, 'The Hamptons, Long Island': 598, 'Vin de Pays du Comté Tolosan': 599, 'Somontano': 600, 'Niagara Escarpment': 601, 'Central Victoria': 602, 'Bordeaux Côtes de Francs ': 603, 'Valpolicella Superiore': 604, 'Shenandoah Valley': 605, 'Bardolino Classico': 606, 'Savoie': 607, 'Var': 608, 'Val de Loire': 609, 'Coteaux du Languedoc Pic Saint Loup': 610, 'Italy': 611, 'Tarragona': 612, 'Corse': 613, 'Valpolicella Classico': 614, 'Mâcon-Fuissé': 615, 'Hautes Côtes de Nuits': 616, 'La Clape': 617, 'Santa Barbara-Monterey': 618, 'Gigondas': 619, 'Conca de Barberà': 620, 'Beamsville Bench': 621, 'Lessini Durello': 622, 'Bourgueil': 623, 'Saint-Croix-du-Mont': 624, 'Lake Erie North Shore': 625, 'Prosecco Treviso': 626, 'Mâcon-Pierreclos': 627, 'Salina': 628, 'Sainte-Foy Bordeaux': 629, 'Saint-Chinian': 630, 'Crozes-Hermitage': 631, 'Southern Flinders Ranges': 632, 'Napa-Carneros': 633, 'Catalonia': 634, 'Pouilly-Vinzelles': 635, 'Lago di Corbara': 636, 'Orvieto Classico Superiore': 637, 'Macon-Bussières': 638, 'Coteaux Varois': 639, 'Côte de Brouilly': 640, 'Offida Pecorino': 641, 'Passito di Pantelleria': 642, 'Illinois': 643, \"Sant'Antimo\": 644, 'Vin Santo del Chianti Rufina': 645, 'Corse Porto Vecchio': 646, 'Côtes du Roussillon Villages Tautavel': 647, 'Côtes du Roussillon Villages': 648, 'Aglianico del Taburno': 649, 'Castel del Monte': 650, 'Albana di Romagna': 651, 'Colli di Faenza': 652, 'Sangiovese di Romagna': 653, 'Fixin': 654, 'Sforzato di Valtellina': 655, 'Corton': 656, 'Premieres Côtes de Blaye': 657, 'Montagny': 658, 'Vin de Pays des Côtes Catalanes': 659, 'Malibu-Newton Canyon': 660, 'Vino de la Tierra Contraviesa Alpujarra': 661, 'Mount Harlan': 662, 'Côtes du Tarn': 663, 'Terrazze Retiche di Sondrio': 664, 'Pla de Bages': 665, 'Côtes de Provence La Londe': 666, 'Coteaux du Layon Chaume': 667, 'Sonoma-Napa-Mendocino': 668, \"Dolcetto d'Acqui\": 669, 'San Francisco Bay': 670, 'Nagambie Lakes': 671, 'Côtes de Bergerac': 672, 'Chelan County': 673, 'California Other': 674, 'Saddle Rock-Malibu': 675, 'Clos de la Roche': 676, 'Vougeot': 677, 'Wrattonbully': 678, 'Mâcon-Vergisson': 679, 'Lambrusco di Sorbara': 680, 'Mâcon-Cruzille': 681, 'Moon Mountain District Sonoma County': 682, 'Loazzolo': 683, 'Humboldt County': 684, 'Clairette de Die Méthode Dioise Ancestrale': 685, 'Jurançon Sec': 686, 'Curtefranca': 687, 'Monteregio di Massa Marittima': 688, 'Napa-Sonoma-Marin': 689, 'Maury': 690, 'Muscat de Rivesaltes': 691, 'Montecucco': 692, 'Vin de Table Francais': 693, 'Santa Clara County': 694, 'Atlantique': 695, 'Lussac Saint-Émilion': 696, 'Muscadet': 697, 'Sierra de Salamanca': 698, 'Chignin-Bergeron': 699, 'Beaujolais Blanc': 700, 'Mâcon La Roche Vineuse': 701, 'Côtes du Roussillon Les Aspres': 702, 'Côtes du Roussillon': 703, 'Beaujolais-Leynes': 704, 'Côtes de Duras': 705, 'Fitou': 706, 'Irrouléguy': 707, 'Puget Sound': 708, 'Dogliani': 709, 'Cadillac': 710, 'Sable de Camargue': 711, 'Pago de Arínzano': 712, 'Beneventano': 713, 'McLaren Vale-Adelaide Hills': 714, 'Colli Piacentini': 715, 'Emilia': 716, 'Martina': 717, 'Lacryma Christi del Vesuvio': 718, 'Côtes Catalanes': 719, 'Vin de Pays Cité de Carcassonne': 720, 'Solano County Green Valley': 721, 'Friuli Isonzo': 722, 'California-Oregon': 723, 'Clear Lake': 724, 'Guenoc Valley': 725, 'Terre del Volturno': 726, \"Coteaux d'Ancenis\": 727, 'Cabernet de Saumur': 728, 'Utiel-Requena': 729, 'Soave Colli Scaligeri': 730, 'Napa County-Sonoma County-San Joaquin County': 731, 'Bourgogne Gamay': 732, 'Terre di Franciacorta': 733, 'Falanghina del Sannio': 734, 'Rosso di Toscana': 735, 'Carneros-Napa Valley': 736, 'Lenswood': 737, 'Côte de Beaune': 738, \"Rosé d'Anjou\": 739, \"St. David's Bench\": 740, 'Coteaux du Vendômois': 741, 'Valpolicella Ripasso Classico': 742, 'Chianti Colli Fiorentini': 743, 'Riverina': 744, 'Swan Creek': 745, 'Tierra de León': 746, 'Orange': 747, 'Calabria': 748, 'Rosso Piceno Superiore': 749, 'Offida Passerina': 750, 'Colli Trevigiani': 751, 'Recioto di Soave Classico': 752, 'Rutherglen': 753, 'Vin de Pays du Lot': 754, 'Venezie': 755, 'Riviera Ligure di Ponente': 756, 'Tulum Valley': 757, 'Pompeiano': 758, 'Epomeo': 759, 'Roccamonfina': 760, 'Tierra de Castilla': 761, 'El Pomar District': 762, 'Bourgogne Epineuil': 763, 'Colli di Salerno': 764, 'Tuolumne County': 765, 'Côtes-du-Ventoux': 766, 'Tarantino': 767, 'Santa Margarita Ranch': 768, \"Brachetto d'Acqui\": 769, 'Saint-Mont': 770, 'Crémant de Bordeaux': 771, 'Bordeaux Clairet': 772, 'Mâcon-Lugny': 773, 'Malibu Coast': 774, 'Rully': 775, 'Pavia': 776, 'Asti': 777, 'Carmignano': 778, 'Bullas': 779, 'McDowell Valley': 780, 'Rasteau': 781, 'Alta Langa': 782, 'Cilento': 783, 'Vin de Pays des Maures': 784, 'Yadkin Valley': 785, \"Costa d'Amalfi\": 786, 'Iowa': 787, 'Premieres Côtes de Bordeaux': 788, 'Chianti Montalbano': 789, 'Elkton Oregon': 790, 'Bourgogne Aligoté': 791, 'Saint-Romain': 792, 'Lugana Superiore': 793, 'Napa-Mendocino-Sonoma-Marin': 794, 'Cesanese del Piglio': 795, 'Muscat de Saint-Jean de Minervois': 796, 'Banyuls': 797, 'Friuli Venezia Giulia': 798, 'Monterey-Santa Barbara': 799, 'Sonoma County-Monterey County-Napa County': 800, 'Rubicone': 801, 'Cévennes': 802, 'Vittoria Frappato': 803, 'Muscat de Beaumes de Venise': 804, 'Echézeaux': 805, 'Ribera del Júcar': 806, 'Sonoma-Mendocino': 807, 'Mâcon-Uchizy': 808, 'Colli di Luni': 809, 'Soave Classico Superiore': 810, 'Corton Grèves': 811, 'Barbera del Monferrato': 812, 'Copertino': 813, 'Alta Mesa': 814, 'Coteaux de Verdon': 815, 'Mâcon': 816, 'Lirac': 817, 'Coteaux du Layon': 818, 'Pacherenc du Vic Bilh': 819, 'Kelsey Bench-Lake County': 820, 'San Lucas': 821, 'British Columbia': 822, 'Manchuela': 823, 'Biferno Rosso': 824, 'Sonoma County-Lake County': 825, 'France': 826, 'Colli Perugini': 827, \"Aleatico dell'Elba\": 828, 'Mudgee': 829, 'Corbières-Boutenac': 830, 'Ohio': 831, 'Vin de Pays du Val de Cesse': 832, 'Pécharmant': 833, 'Paso Robles Highlands District': 834, 'Madrid': 835, 'Colli Tortonesi': 836, 'Barco Reale di Carmignano': 837, 'Vino de Mesa': 838, 'Sonoma County-Monterey County': 839, 'Pouilly-Loché': 840, 'Noto': 841, 'Campi Flegrei': 842, 'Bendigo': 843, \"Vin de Pays de L'Aude\": 844, 'Terre di Chieti': 845, 'Buenos Aires': 846, 'Marcillac': 847, 'Vin de Pays du Gard': 848, 'Colline Teatine': 849, \"Cerasuolo d'Abruzzo\": 850, \"Barbera d'Asti Superiore Nizza\": 851, 'Côte Rôtie': 852, 'Vermont': 853, 'Garda Classico': 854, 'Montenetto di Brescia': 855, 'Lombardy': 856, 'Benaco Bresciano': 857, 'Malvasia delle Lipari': 858, 'Côtes de Thongue': 859, 'Côtes du Frontonnais': 860, 'Ventura County': 861, 'Marca Trevigiana': 862, 'Colli di Conegliano': 863, 'Chianti Colli Aretini': 864, 'Monterrei': 865, 'Mendocino-Lake': 866, 'Monterey-Santa Cruz': 867, 'Pomino': 868, 'Teroldego Rotaliano': 869, 'Tierra del Viños de Zamora': 870, 'North Carolina': 871, 'Cortese di Gavi': 872, 'York Mountain': 873, 'Colli Bolognesi': 874, 'Lambrusco Reggiano': 875, 'Emilia-Romagna': 876, 'Château-Chalon': 877, 'Irancy': 878, 'Cigales': 879, 'Vin de Pays Var': 880, 'Savennières-Roche-Aux-Moines': 881, 'Jujuy': 882, 'Galatina': 883, 'Vin de Pays des Portes de Méditerranée': 884, 'Soave Superiore': 885, 'Brulhois': 886, 'Mâcon-Loché': 887, 'Mâcon-Vinzelles': 888, 'Chianti Superiore': 889, 'Rosazzo': 890, 'Limoux': 891, 'Orvieto': 892, 'Verdicchio di Matelica': 893, 'Columbia Valley-Walla Walla Valley': 894, 'Gutturnio Colli Piacentini': 895, 'Valtènesi': 896, 'Bramaterra': 897, 'Madera': 898, 'Ardèche': 899, 'Mâcon-Charnay': 900, 'Sonoma': 901, 'Mount Barker': 902, 'Corton-Pougets': 903, 'Cérons': 904, 'Gioia del Colle': 905, 'Vin Santo del Chianti': 906, 'Kentucky': 907, 'Prince Edward County': 908, 'Alcamo': 909, 'Extremadura': 910, 'Vino da Tavola': 911, 'Southern Fleurieu': 912, 'Clements Hills': 913, 'Vinos de Madrid': 914, 'Pouilly-sur-Loire': 915, 'Barbera del Monferrato Superiore': 916, 'Custoza': 917, 'Contea di Sclafani': 918, \"Dolcetto di Diano d'Alba\": 919, 'Vin de Pays de la Méditerranée': 920, \"Vin de Pays de l'Ile de Beauté\": 921, 'Nuragus di Cagliari': 922, 'Blanquette de Limoux': 923, 'Asolo Prosecco Superiore': 924, 'Venezia': 925, 'Sonoma County-San Joaquin County': 926, 'Montescudaio': 927, 'San Francisco Bay-Livermore Valley': 928, 'Clairette de Bellegarde': 929, 'Barsac': 930, 'Provincia di Pavia': 931, \"Montepulciano d'Abruzzo Cerasuolo\": 932, 'Colline Lucchesi': 933, 'Emporadà-Costa Brava': 934, 'Fara': 935, 'Côtes du Luberon': 936, 'Lambrusco Salamino di Santa Croce': 937, 'Canon-Fronsac': 938, 'Côtes de Castillon': 939, 'Primitivo del Salento': 940, 'Western Connecticut Highlands': 941, 'River Junction': 942, 'Passito di Noto': 943, 'Vin de Pays des Alpilles': 944, 'Grampians': 945, 'Currency Creek': 946, 'Cour-Cheverny': 947, 'Muscadet Sèvre et Maine Clisson': 948, 'Amarone della Valpolicella Valpantena': 949, 'Aude Hauterive': 950, 'Ribera del Guadiana': 951, 'Toledo': 952, 'Monterey-Santa Barbara-Sonoma': 953, 'Valtellina': 954, 'Vi de la Terra Mallorca': 955, 'Abruzzo': 956, 'Columbia Valley': 957, 'Piccadilly Valley': 958, 'Lake County-Mendocino County': 959, 'Côte de Beaune-Villages': 960, 'Oregon Other': 961, 'Meursault-Blagny': 962, 'Sonoma County-Monterey County-Santa Barbara County': 963, 'Orcia': 964, 'Yamhill County': 965, 'Mendocino-Lake County-Napa': 966, 'Beechworth': 967, 'Montecarlo': 968, 'Monterey-San Luis Obispo-Santa Barbara': 969, 'Recioto della Valpolicella': 970, 'Colli Euganei': 971, 'Contessa Entellina': 972, 'Moscato di Noto': 973, \"Diano d'Alba\": 974, 'Vino de la Tierra del Bajo Aragón': 975, 'Chignin': 976, 'Controguerra': 977, 'San Carlos': 978, 'Manzanilla-Sanlúcar de Barrameda': 979, 'Valli di Porto Pino': 980, 'Falanghina del Beneventano': 981, 'Swan Hill': 982, 'Falerio dei Colli Ascolani': 983, 'Erbaluce di Caluso': 984, 'Mamertino': 985, 'Mâcon Solutré': 986, \"Civitella d'Agliano\": 987, 'Landes': 988, 'Mâcon-Davayé': 989, 'Pedernal Valley': 990, 'Breganze': 991, 'Tehama County': 992, 'Siracusa': 993, 'Vin de Pays du Jardin de la France': 994, 'Ischia': 995, 'Murray-Darling': 996, 'Saint-Péray': 997, 'Castilla La Mancha': 998, 'Muscadet Coteaux de la Loire': 999, 'Pays de Loire': 1000, 'Carema': 1001, 'Valpolicella Valpantena': 1002, 'Ramona Valley': 1003, 'Savennières': 1004, 'Cirò': 1005, 'Napa County-Lake County': 1006, 'Prosecco di Valdobbiadene Superiore': 1007, 'Colli Etruria Centrale': 1008, 'Côtes de Forez': 1009, 'Monthélie': 1010, 'New South Wales': 1011, 'Arizona': 1012, 'Short Hills Bench': 1013, 'Vin Doux Naturel Rasteau': 1014, 'Aglianico del Beneventano': 1015, 'Vin de Pays de la Haute Vallée du Gassac': 1016, 'Zonda Valley': 1017, 'Barbera di Piemonte': 1018, 'Lanzarote': 1019, 'Châteaumeillant': 1020, 'Napa': 1021, 'Erice': 1022, 'Similkameen Valley': 1023, 'Bourgogne Côtes d’Auxerre': 1024, 'Cabardes': 1025, 'Dolcetto di Dogliani Superiore': 1026, 'Galluccio': 1027, 'Bergerac Rosé': 1028, 'Collines Rhôdaniennes': 1029, 'Lamezia': 1030, 'Trentino Superiore': 1031, 'Lison-Pramaggiore': 1032, 'Grave del Friuli': 1033, 'Hautes Cotes de Beaune': 1034, 'Vino de la Tierra de Cádiz': 1035, 'Central Valley': 1036, 'Anjou Villages': 1037, 'Vin de Pays de Vaucluse': 1038, 'Ramandolo': 1039, 'Clos de Vougeot': 1040, 'Vino de la Tierra de Zamora': 1041, 'Lot': 1042, 'Garda': 1043, 'Brindisi': 1044, 'Western Plains': 1045, 'Vino de la Tierra de Castelló': 1046, 'Kangaroo Island': 1047, 'Penisola Sorrentina': 1048, 'Casorzo': 1049, 'Rosso di Cerignola': 1050, \"Sant' Agata dei Goti\": 1051, 'McLaren Vale-Langhorne Creek': 1052, 'Mentrida': 1053, 'Monreale': 1054, 'Monferrato Bianco': 1055, 'Béarn': 1056, 'Torgiano Rosso Riserva': 1057, 'Arribes del Duero': 1058, 'Finca Élez': 1059, 'Moulis': 1060, 'Lime Kiln Valley': 1061, 'Mâcon Chaintré': 1062, 'Vino da Mesa de Toledo': 1063, 'Corton Vergennes': 1064, 'Amador-Napa': 1065, 'Hilltops': 1066, 'Polk County': 1067, 'Tuscany': 1068, 'Barossa-Langhorne Creek': 1069, 'Currency Creek-McLaren Vale': 1070, 'Vin Santo di Montepulciano': 1071, 'Coteaux du Lyonnais': 1072, 'Sardinia': 1073, 'Strathbogie Ranges': 1074, 'Colline Teramane': 1075, 'Vino de la Tierra Ribera del Gállego-Cinco Villas': 1076, 'Monterey County-Napa County-Sonoma County': 1077, 'Côte Roannaise': 1078, 'Côtes de Thau': 1079, 'Antelope Valley of the California High Desert': 1080, 'Napa Valley-Paso Robles': 1081, 'Clare Valley-Coonawarra': 1082, 'Falanghina del Molise': 1083, 'Corton-Bressandes': 1084, 'Medrano': 1085, 'Lake County-Sonoma County': 1086, 'Valpolicella Ripasso Valpantena': 1087, 'Circeo': 1088, 'Gundagai': 1089, 'Vin de Pays des Coteaux de Bessilles': 1090, 'Mount Barker & Margaret River': 1091, 'Altos de Mendoza': 1092, 'Vino de la Tierra Altiplano de Sierra Nevada': 1093, 'Cirò Classico': 1094, 'Bardolino Classico Superiore': 1095, 'Vino de Calidad de Tierras de León': 1096, 'Valpolicella Ripasso Valpantena Superiore': 1097, 'Sebino': 1098, 'McLaren Vale-Padthaway': 1099, 'Gaillac Doux': 1100, 'Mendocino-Amador': 1101, 'Vallée du Paradis': 1102, 'San Rafael': 1103, 'Sovana': 1104, 'Vesuvio': 1105, \"Dolcetto d'Alba Superiore\": 1106, 'Tumbarumba': 1107, 'Henty': 1108, 'Côtes de Saint-Mont': 1109, 'Saint-Chinian-Roquebrun': 1110, 'San Martino della Battaglia': 1111, 'Geelong': 1112, 'Corton Perrières': 1113, 'Alpine Valleys': 1114, 'San Marino': 1115, 'Chianti Colli Pisani': 1116, 'Coteaux du Layon Beaulieu': 1117, 'Napa-Amador': 1118, 'Napa County-Sonoma County-Lake County': 1119, \"Vin de Pays de L'Herault\": 1120, 'Montello e Colli Asolani': 1121, 'Nasco di Cagliari': 1122, 'Charentais': 1123, 'Montefalco': 1124, 'Santa Cruz County': 1125, 'Sonoma-Santa Barbara-Mendocino': 1126, 'Napa-Mendocino-Sonoma': 1127, 'Vin de Pays de France': 1128, 'Massachusetts': 1129, 'Canada': 1130, 'Frascati': 1131, 'Alta Valle della Greve': 1132, 'Southern Highlands': 1133, \"Aglianico d'Irpinia\": 1134, 'Lake-Sonoma-Napa': 1135, 'Vin de Pays de Montferrand': 1136, 'Laudun': 1137, 'Isle St. George': 1138, 'Clairette de Die': 1139, 'Clare Valley-Eden Valley': 1140, 'Strevi': 1141, 'Australia-New Zealand': 1142, 'Riverland': 1143, 'Sardon de Duero': 1144, 'Texoma': 1145, 'Capay Valley': 1146, 'Alpilles': 1147, 'Fleurieu Peninsula': 1148, 'Cacc’e Mmitte di Lucera': 1149, 'Sonoma-Napa-Monterey': 1150, 'Collioure': 1151, 'Saint Guilhem le Désert': 1152, 'Catalanesca del Monte Somma': 1153, 'Périgord': 1154, 'Hawaii': 1155, 'San Gimignano': 1156, 'Bourgogne Vézelay': 1157, 'Vino de Calidad de Valtiendas': 1158, 'Mitterberg': 1159, 'Rivesaltes Rosé': 1160, 'Offida Rosso': 1161, 'Côtes de Montravel': 1162, 'Colli del Limbara': 1163, 'Catamarca': 1164, 'Langhorne Creek-Limestone Coast': 1165, \"Coda di Volpe d'Irpinia\": 1166, 'Squinzano': 1167, 'Monterey County-Napa County': 1168}\n",
            "{'Pinot Gris': 0, 'Riesling': 1, 'Pinot Noir': 2, 'Tempranillo-Merlot': 3, 'Frappato': 4, 'Gewürztraminer': 5, 'Cabernet Sauvignon': 6, 'Chardonnay': 7, 'Malbec': 8, 'Tempranillo Blend': 9, 'Meritage': 10, 'Red Blend': 11, 'White Blend': 12, 'Merlot': 13, \"Nero d'Avola\": 14, 'Chenin Blanc': 15, 'Sauvignon Blanc': 16, 'Primitivo': 17, 'Catarratto': 18, 'Gamay': 19, 'Inzolia': 20, 'Monica': 21, 'Bordeaux-style White Blend': 22, 'Grillo': 23, 'Sangiovese': 24, 'Cabernet Franc': 25, 'Bordeaux-style Red Blend': 26, 'Aglianico': 27, 'Petite Sirah': 28, 'Albariño': 29, 'Petit Manseng': 30, 'Rosé': 31, 'Zinfandel': 32, 'Vernaccia': 33, 'Rosato': 34, 'Viognier': 35, 'Vermentino': 36, 'Grenache Blanc': 37, 'Syrah': 38, 'Nebbiolo': 39, 'Shiraz-Cabernet Sauvignon': 40, 'Pinot Blanc': 41, 'Alsace white blend': 42, 'Barbera': 43, 'Rhône-style Red Blend': 44, 'Graciano': 45, 'Tannat-Cabernet': 46, 'Sauvignon': 47, 'Torrontés': 48, 'Prugnolo Gentile': 49, 'G-S-M': 50, 'Verdejo': 51, 'Fumé Blanc': 52, 'Pinot Bianco': 53, 'Bonarda': 54, 'Shiraz': 55, 'Montepulciano': 56, 'Grenache': 57, 'Ugni Blanc-Colombard': 58, 'Friulano': 59, 'Carignan-Grenache': 60, 'Savagnin': 61, 'Cabernet Sauvignon-Syrah': 62, 'Prosecco': 63, 'Vignoles': 64, 'Shiraz-Viognier': 65, 'Garganega': 66, 'Pinot Grigio': 67, 'Tempranillo': 68, 'Sparkling Blend': 69, 'Cortese': 70, 'Mencía': 71, 'Nerello Mascalese': 72, 'Melon': 73, 'Rhône-style White Blend': 74, 'Vidal': 75, 'Champagne Blend': 76, 'Cannonau': 77, 'Verdelho': 78, 'Marsanne': 79, 'Kerner': 80, 'Syrah-Grenache': 81, 'Dolcetto': 82, 'Grüner Veltliner': 83, 'Glera': 84, 'Viura': 85, 'Garnacha Tintorera': 86, 'Pinot Nero': 87, 'Sémillon': 88, 'Pinot Noir-Gamay': 89, 'Verdejo-Viura': 90, 'Verduzzo': 91, 'Verdicchio': 92, 'Colombard': 93, 'Carricante': 94, 'Sylvaner': 95, 'Fiano': 96, 'Roussanne': 97, 'Cinsault': 98, 'Muscat Blanc à Petits Grains': 99, 'Monastrell': 100, 'Petit Verdot': 101, 'Xarel-lo': 102, 'Trebbiano': 103, 'Corvina, Rondinella, Molinara': 104, 'Chenin Blanc-Chardonnay': 105, 'Insolia': 106, 'Ribolla Gialla': 107, 'Tannat-Syrah': 108, 'Marsanne-Roussanne': 109, 'Charbono': 110, 'Sangiovese Grosso': 111, 'Greco': 112, 'Prié Blanc': 113, 'Provence red blend': 114, 'Zibibbo': 115, 'Falanghina': 116, 'Garnacha': 117, 'Negroamaro': 118, 'Mourvèdre': 119, 'Syrah-Cabernet': 120, 'Müller-Thurgau': 121, 'Pinot Meunier': 122, 'Cabernet Sauvignon-Sangiovese': 123, 'Teroldego': 124, 'Sagrantino': 125, 'Port': 126, 'Tannat': 127, 'Pansa Blanca': 128, 'Muskat Ottonel': 129, 'Sauvignon Blanc-Semillon': 130, 'Claret': 131, 'Semillon-Sauvignon Blanc': 132, 'Moscatel': 133, 'Rosado': 134, 'Viura-Chardonnay': 135, 'Syrah-Viognier': 136, 'Cabernet Sauvignon-Merlot': 137, 'Malvasia Bianca': 138, 'Malbec-Merlot': 139, 'Monastrell-Syrah': 140, 'Malbec-Tannat': 141, 'Malbec-Cabernet Franc': 142, 'Moscato': 143, 'Refosco': 144, 'Turbiana': 145, 'Carmenère': 146, 'Muscat': 147, 'Ruché': 148, 'Tinta de Toro': 149, 'Traminette': 150, 'Chambourcin': 151, 'Lambrusco di Sorbara': 152, 'Cesanese': 153, 'Sherry': 154, 'Lagrein': 155, 'Tinta Fina': 156, 'Marsanne-Viognier': 157, 'Touriga Nacional': 158, 'Syrah-Cabernet Sauvignon': 159, 'Gewürztraminer-Riesling': 160, 'Pugnitello': 161, 'Tocai': 162, 'Cabernet Franc-Cabernet Sauvignon': 163, 'Grenache-Syrah': 164, 'Seyval Blanc': 165, 'Muscat Canelli': 166, 'Cabernet Merlot': 167, 'Tempranillo-Cabernet Sauvignon': 168, 'Merlot-Cabernet Franc': 169, 'Syrah-Petite Sirah': 170, 'Cabernet Blend': 171, 'Maturana': 172, 'Pecorino': 173, 'Gamay Noir': 174, 'Picpoul': 175, 'Vidal Blanc': 176, 'Albanello': 177, 'Arneis': 178, 'Lemberger': 179, 'Altesse': 180, 'Blanc du Bois': 181, 'Provence white blend': 182, 'Nosiola': 183, 'Roussanne-Viognier': 184, 'Godello': 185, 'Mondeuse': 186, 'Perricone': 187, 'Pedro Ximénez': 188, 'Auxerrois': 189, 'Albana': 190, 'Muskat': 191, 'Lambrusco': 192, 'Cabernet Sauvignon-Malbec': 193, 'Tinto Fino': 194, 'Malbec-Cabernet Sauvignon': 195, 'Grechetto': 196, 'Carignano': 197, 'Cabernet Franc-Merlot': 198, 'Torbato': 199, 'Syrah-Petit Verdot': 200, 'Garnacha Blanca': 201, 'Pallagrello': 202, 'Aleatico': 203, 'Malvasia': 204, 'Carcajolu': 205, 'Pinotage': 206, 'Shiraz-Grenache': 207, 'Palomino': 208, 'Magliocco': 209, 'Grenache-Carignan': 210, 'Nascetta': 211, 'Lambrusco Grasparossa': 212, 'Marselan': 213, 'Tocai Friulano': 214, 'Malbec-Syrah': 215, 'Schiava': 216, 'Chardonnay-Semillon': 217, 'Merlot-Malbec': 218, 'Norton': 219, 'Alicante Bouschet': 220, 'Moscadello': 221, 'Cabernet Sauvignon-Tempranillo': 222, 'Carignan': 223, 'Cabernet-Syrah': 224, 'Sauvignon Blanc-Chardonnay': 225, 'Symphony': 226, 'Black Muscat': 227, 'Grenache Noir': 228, 'Durella': 229, 'Tinto del Pais': 230, 'Johannisberg Riesling': 231, 'Passerina': 232, 'Valdiguié': 233, 'Colombard-Sauvignon Blanc': 234, 'Syrah-Mourvèdre': 235, 'Blaufränkisch': 236, 'Petite Verdot': 237, 'Uva di Troia': 238, 'Gros and Petit Manseng': 239, 'Jacquère': 240, 'Mourvèdre-Syrah': 241, 'Negrette': 242, 'Clairette': 243, 'Raboso': 244, 'Mauzac': 245, 'Diamond': 246, 'Marzemino': 247, 'Cabernet Sauvignon-Shiraz': 248, 'Scheurebe': 249, 'Trebbiano Spoletino': 250, 'Freisa': 251, 'Nero di Troia': 252, 'Chasselas': 253, 'Merlot-Tannat': 254, 'Siegerrebe': 255, 'Trousseau Gris': 256, 'Grenache Blend': 257, 'Muscadelle': 258, 'Gros Manseng': 259, 'Brachetto': 260, 'Merlot-Cabernet Sauvignon': 261, 'Aligoté': 262, 'Sangiovese Cabernet': 263, 'Muscat Blanc': 264, 'Viognier-Roussanne': 265, 'Pallagrello Bianco': 266, 'Bobal': 267, 'Cabernet Sauvignon-Cabernet Franc': 268, 'Baco Noir': 269, 'Veltliner': 270, 'Barbera-Nebbiolo': 271, 'Prieto Picudo': 272, 'Gaglioppo': 273, 'Tokay': 274, 'Piedirosso': 275, 'Piquepoul Blanc': 276, 'Chardonnay-Sauvignon': 277, 'Tempranillo-Garnacha': 278, 'Chenin Blanc-Viognier': 279, 'Susumaniello': 280, 'Vitovska': 281, 'Orange Muscat': 282, 'Rkatsiteli': 283, 'Carignane': 284, 'Picolit': 285, 'Nerello Cappuccio': 286, 'Counoise': 287, 'Macabeo': 288, 'Mazuelo': 289, 'Sauvignon-Sémillon': 290, 'Tinta del Pais': 291, 'Corvina': 292, \"Cesanese d'Affile\": 293, 'Moscato Giallo': 294, 'Debit': 295, 'Cabernet': 296, 'Verduzzo Friulano ': 297, 'Treixadura': 298, 'Duras': 299, \"Loin de l'Oeil\": 300, 'Coda di Volpe': 301, 'Chardonnay-Sauvignon Blanc': 302, 'Grenache-Mourvèdre': 303, 'Forcallà': 304, 'Viura-Verdejo': 305, 'Manzoni': 306, 'Touriga Nacional Blend': 307, 'Pinot-Chardonnay': 308, 'Syrah-Tempranillo': 309, 'Cabernet Sauvignon-Barbera': 310, 'Merlot-Cabernet': 311, \"Muscat d'Alexandrie\": 312, 'Tinta del Toro': 313, 'Timorasso': 314, 'Pigato': 315, 'Sangiovese-Cabernet Sauvignon': 316, 'Viognier-Gewürztraminer': 317, 'Prunelard': 318, 'Trepat': 319, 'Malbec-Petit Verdot': 320, 'Colombard-Ugni Blanc': 321, 'Sacy': 322, 'Mansois': 323, 'Grignolino': 324, 'Garnacha-Syrah': 325, 'Rufete': 326, 'Chardonnay-Viognier': 327, 'Mataro': 328, 'Pinot Auxerrois': 329, 'Groppello': 330, 'Semillon-Chardonnay': 331, 'Poulsard': 332, 'Grenache-Shiraz': 333, 'Carineña': 334, 'Pignoletto': 335, 'Ciliegiolo': 336, 'Mantonico': 337, 'Sciaccerellu': 338, 'Malbec-Cabernet': 339, 'Touriga': 340, 'Grecanico': 341, 'Tempranillo-Shiraz': 342, 'Madeleine Angevine': 343, 'Alvarelhão': 344, 'Viognier-Chardonnay': 345, 'Pinot Blanc-Pinot Noir': 346, 'Muscat Hamburg': 347, 'Casavecchia': 348, 'Pinot Gris-Gewürztraminer': 349, 'Tinto Velasco': 350, 'Hondarrabi Zuri': 351, 'Nuragus': 352, 'Sauvignon Musqué': 353, 'Roussanne-Marsanne': 354, 'Cabernet Sauvignon-Merlot-Shiraz': 355, 'Incrocio Manzoni': 356, 'Doña Blanca': 357, 'Lambrusco Salamino': 358, 'Sangiovese-Syrah': 359, 'Tannat-Cabernet Franc': 360, 'Fer Servadou': 361, 'Mission': 362, 'Syrah-Merlot': 363, 'Cococciola': 364, 'Tannat-Merlot': 365, 'Marquette': 366, 'Alicante': 367, 'Romorantin': 368, 'Bombino Bianco': 369, 'Verdejo-Sauvignon Blanc': 370, 'Braucol': 371, 'Malvasia-Viura': 372, 'Cabernet Sauvignon-Carmenère': 373, 'Cabernet Franc-Malbec': 374, 'Pallagrello Nero': 375, 'Vespolina': 376, 'Shiraz-Malbec': 377, 'Rebo': 378, 'Macabeo-Chardonnay': 379, 'Shiraz-Cabernet': 380, 'Trousseau': 381, 'Syrah-Malbec': 382, 'Syrah-Cabernet Franc': 383, 'Macabeo-Moscatel': 384, 'Cariñena-Garnacha': 385, 'Traminer': 386, 'Paralleda': 387, 'Malvasia di Candia': 388, 'Molinara': 389, 'Malvar': 390, 'Airen': 391, 'Malvasia Istriana': 392, 'Erbaluce': 393, 'Muscat of Alexandria': 394, 'Verdosilla': 395, 'Abouriou': 396, 'Pinot Noir-Syrah': 397, 'Nielluciu': 398, 'Malbec-Bonarda': 399, 'Vespaiolo': 400, 'Biancolella': 401, 'Sauvignon Blanc-Verdejo': 402, 'Garnacha-Monastrell': 403, 'Greco Bianco': 404, 'Souzao': 405, 'White Port': 406, 'White Riesling': 407, 'Rolle': 408, 'Zweigelt': 409, 'Malvasia Nera': 410, 'Riesling-Chardonnay': 411, 'Sauvignon Gris': 412, 'Listán Negro': 413, 'Muscadine': 414, 'Grolleau': 415, 'Syrah-Grenache-Viognier': 416, 'Edelzwicker': 417, 'Jacquez': 418, 'Canaiolo': 419, 'Bombino Nero': 420, 'Chardonnay-Riesling': 421, 'Bovale': 422, 'Shiraz-Roussanne': 423, 'Cabernet-Shiraz': 424, 'Syrah-Carignan': 425, 'Gragnano': 426, 'Garnacha Blend': 427, 'Pinot Blanc-Chardonnay': 428, 'Carignan-Syrah': 429, 'Vidadillo': 430, 'Tempranillo Blanco': 431, 'Dornfelder': 432, 'Moscatel de Alejandría': 433, 'Malbec Blend': 434, 'Cabernet Pfeffer': 435, 'Morio Muskat': 436, 'Jaen': 437, 'Viognier-Marsanne': 438, 'Meseguera': 439, 'Pinot Blanc-Viognier': 440, 'Teroldego Rotaliano': 441, 'Garnacha-Tempranillo': 442, 'Trebbiano di Lugana': 443, 'Albarossa': 444, 'Verdeca': 445, 'Black Monukka': 446, 'Merlot-Grenache': 447, 'Tempranillo-Syrah': 448, 'Chardonel': 449, 'Saperavi': 450, 'Madeira Blend': 451, 'Uvalino': 452, 'Merseguera-Sauvignon Blanc': 453, 'Cabernet-Malbec': 454, 'Vermentino Nero': 455, 'Cayuga': 456, 'Tinta Amarela': 457, 'Moscato Rosa': 458, 'Chelois': 459, 'Muscadel': 460, 'Roussanne-Grenache Blanc': 461, 'Biancale': 462, 'Ansonica': 463, 'Syrah-Bonarda': 464, 'Durif': 465, 'Roviello': 466, 'Franconia': 467, 'Malbec-Tempranillo': 468, 'Nasco': 469, 'Monastrell-Petit Verdot': 470, 'Sirica': 471, 'Apple': 472, 'Pinot Grigio-Sauvignon Blanc': 473, 'Viognier-Grenache Blanc': 474, 'Valvin Muscat': 475, 'Shiraz-Tempranillo': 476, 'St. Vincent': 477, 'Chancellor': 478, 'Premsal': 479, 'Tokay Pinot Gris': 480, 'Colorino': 481, 'Picapoll': 482, 'Tinta Madeira': 483, 'Centesimino': 484, 'Ugni Blanc': 485, 'Grenache Gris': 486, 'Merlot-Petite Verdot': 487, 'Catalanesca': 488, 'Garnacha-Cabernet': 489, 'Garnacha-Cariñena': 490, 'Cabernet Franc-Lemberger': 491, 'Chardonnay-Albariño': 492, 'Shiraz-Mourvèdre': 493, 'Favorita': 494, 'Tintilia ': 495, 'Petit Courbu': 496, 'Parraleta': 497, 'Moscato di Noto': 498, 'Silvaner': 499}\n"
          ]
        },
        {
          "data": {
            "text/plain": [
              "0.3752096477204143"
            ]
          },
          "execution_count": 9,
          "metadata": {},
          "output_type": "execute_result"
        }
      ],
      "source": [
        "countryDict = {}\n",
        "countryCtr = 0\n",
        "regionDict = {}\n",
        "regionCtr = 0\n",
        "varietyDict = {}\n",
        "varietyCtr = 0\n",
        "treeDF = df.copy()\n",
        "for country in treeDF[\"country\"]:\n",
        "  if country not in countryDict:\n",
        "    countryDict[country] = countryCtr\n",
        "    countryCtr += 1\n",
        "for region in treeDF[\"region_1\"]:\n",
        "  if region not in regionDict:\n",
        "    regionDict[region] = regionCtr\n",
        "    regionCtr += 1\n",
        "for variety in treeDF[\"variety\"]:\n",
        "  if variety not in varietyDict:\n",
        "    varietyDict[variety] = varietyCtr\n",
        "    varietyCtr += 1\n",
        "countryCol = []\n",
        "varietyCol = []\n",
        "regionCol = []\n",
        "for frame in treeDF.iterrows():\n",
        "  countryCol.append(countryDict[frame[1][\"country\"]])\n",
        "  varietyCol.append(varietyDict[frame[1][\"variety\"]])\n",
        "  regionCol.append(regionDict[frame[1][\"region_1\"]])\n",
        "treeDF[\"countryCode\"] = countryCol\n",
        "treeDF[\"regionCode\"] = regionCol\n",
        "treeDF[\"varietyCode\"] = varietyCol\n",
        "\n",
        "x = treeDF[[\"price\",\"year\", \"countryCode\", \"regionCode\", \"varietyCode\"]].values\n",
        "y = treeDF[\"points\"].values.reshape(-1,1)\n",
        "print(countryDict)\n",
        "print(regionDict)\n",
        "print(varietyDict)\n",
        "x_train, x_test, y_train, y_test = train_test_split(x,y, test_size=0.25, random_state=42)\n",
        "dtr = DecisionTreeRegressor(max_depth=8)\n",
        "dtr.fit(x_train, y_train)\n",
        "dtr.score(x_test,y_test)\n"
      ]
    },
    {
      "cell_type": "code",
      "execution_count": 24,
      "metadata": {},
      "outputs": [
        {
          "name": "stdout",
          "output_type": "stream",
          "text": [
            "TkAgg\n"
          ]
        },
        {
          "name": "stderr",
          "output_type": "stream",
          "text": [
            "Exception in Tkinter callback\n",
            "Traceback (most recent call last):\n",
            "  File \"C:\\Program Files\\WindowsApps\\PythonSoftwareFoundation.Python.3.9_3.9.3568.0_x64__qbz5n2kfra8p0\\lib\\tkinter\\__init__.py\", line 1892, in __call__\n",
            "    return self.func(*args)\n",
            "  File \"C:\\Users\\Bing Xiong\\AppData\\Local\\Temp\\ipykernel_5352\\864489042.py\", line 30, in display_decision_path\n",
            "    plt.get_current_fig_manager().window.showMaximized()\n",
            "  File \"C:\\Program Files\\WindowsApps\\PythonSoftwareFoundation.Python.3.9_3.9.3568.0_x64__qbz5n2kfra8p0\\lib\\tkinter\\__init__.py\", line 2354, in __getattr__\n",
            "    return getattr(self.tk, attr)\n",
            "AttributeError: '_tkinter.tkapp' object has no attribute 'showMaximized'\n"
          ]
        }
      ],
      "source": [
        "import tkinter as tk\n",
        "from tkinter import ttk\n",
        "import matplotlib.pyplot as plt\n",
        "from sklearn.tree import plot_tree\n",
        "\n",
        "def display_decision_path():\n",
        "    price = float(price_entry.get())\n",
        "    year = int(year_entry.get())\n",
        "    countryCode = int(countryCode_entry.get())\n",
        "    regionCode = int(regionCode_entry.get())\n",
        "    varietyCode = int(varietyCode_entry.get())\n",
        "\n",
        "    input_values = np.array([[price, year, countryCode, regionCode, varietyCode]])\n",
        "    decision_path = dtr.decision_path(input_values).toarray()[0]\n",
        "\n",
        "    # Create a new Figure and clear the previous plot\n",
        "    fig, ax = plt.subplots(figsize=(20, 20))\n",
        "    plot_tree(dtr, filled=True, feature_names=[\"Price\", \"Year\", \"Country Code\", \"Region Code\", \"Variety Code\"], node_ids=True, ax=ax)\n",
        "\n",
        "    # Highlight the nodes in the decision path\n",
        "    for i, (node_id, presence) in enumerate(zip(range(len(decision_path)), decision_path)):\n",
        "        if presence:\n",
        "            # Draw a red rectangle around the node\n",
        "            node = ax.texts[i]\n",
        "            bbox = node.get_bbox_patch()\n",
        "            bbox.set_edgecolor(\"red\")\n",
        "            bbox.set_linewidth(2)\n",
        "\n",
        "    # Show the plot in fullscreen\n",
        "    plt.get_current_fig_manager().window.showMaximized() \n",
        "    plt.show(block=False)\n",
        "\n",
        "\n",
        "def predict_points():\n",
        "    price = float(price_entry.get())\n",
        "    year = int(year_entry.get())\n",
        "    countryCode = int(countryCode_entry.get())\n",
        "    regionCode = int(regionCode_entry.get())\n",
        "    varietyCode = int(varietyCode_entry.get())\n",
        "\n",
        "    input_values = np.array([[price, year, countryCode, regionCode, varietyCode]])\n",
        "    predicted_points = dtr.predict(input_values)\n",
        "    \n",
        "\n",
        "    result_label.config(text=f\"Predicted points: {predicted_points[0]:.2f}\")\n",
        "    print(plt.get_backend())\n",
        "\n",
        "def clear_inputs():\n",
        "    price_entry.delete(0, tk.END)\n",
        "    year_entry.delete(0, tk.END)\n",
        "    countryCode_entry.delete(0, tk.END)\n",
        "    regionCode_entry.delete(0, tk.END)\n",
        "    varietyCode_entry.delete(0, tk.END)\n",
        "    result_label.config(text=\"\")\n",
        "\n",
        "def display_dictionaries():\n",
        "    display_text.delete(1.0, tk.END)  # Clear the Text widget\n",
        "    display_text.insert(tk.END, \"Country Codes:\\n\")\n",
        "    for k, v in countryDict.items():\n",
        "        display_text.insert(tk.END, f\"{k}: {v}\\n\")\n",
        "\n",
        "    display_text.insert(tk.END, \"\\nRegion Codes:\\n\")\n",
        "    for k, v in regionDict.items():\n",
        "        display_text.insert(tk.END, f\"{k}: {v}\\n\")\n",
        "\n",
        "    display_text.insert(tk.END, \"\\nVariety Codes:\\n\")\n",
        "    for k, v in varietyDict.items():\n",
        "        display_text.insert(tk.END, f\"{k}: {v}\\n\")\n",
        "\n",
        "app = tk.Tk()\n",
        "app.title(\"Wine Points Predictor and Dictionary Display\")\n",
        "\n",
        "\n",
        "# Wine Points Predictor UI\n",
        "predictor_frame = ttk.Frame(app, padding=\"10\")\n",
        "predictor_frame.grid(row=0, column=0, sticky=(tk.W, tk.E, tk.N, tk.S))\n",
        "\n",
        "price_label = ttk.Label(predictor_frame, text=\"Price:\")\n",
        "price_label.grid(column=0, row=0, sticky=tk.W)\n",
        "price_entry = ttk.Entry(predictor_frame)\n",
        "price_entry.grid(column=1, row=0, sticky=tk.W)\n",
        "\n",
        "year_label = ttk.Label(predictor_frame, text=\"Year:\")\n",
        "year_label.grid(column=0, row=1, sticky=tk.W)\n",
        "year_entry = ttk.Entry(predictor_frame)\n",
        "year_entry.grid(column=1, row=1, sticky=tk.W)\n",
        "\n",
        "countryCode_label = ttk.Label(predictor_frame, text=\"Country Code:\")\n",
        "countryCode_label.grid(column=0, row=2, sticky=tk.W)\n",
        "countryCode_entry = ttk.Entry(predictor_frame)\n",
        "countryCode_entry.grid(column=1, row=2, sticky=tk.W)\n",
        "\n",
        "regionCode_label = ttk.Label(predictor_frame, text=\"Region Code:\")\n",
        "regionCode_label.grid(column=0, row=3, sticky=tk.W)\n",
        "regionCode_entry = ttk.Entry(predictor_frame)\n",
        "regionCode_entry.grid(column=1, row=3, sticky=tk.W)\n",
        "\n",
        "varietyCode_label = ttk.Label(predictor_frame, text=\"Variety Code:\")\n",
        "varietyCode_label.grid(column=0, row=4, sticky=tk.W)\n",
        "varietyCode_entry = ttk.Entry(predictor_frame)\n",
        "varietyCode_entry.grid(column=1, row=4, sticky=tk.W)\n",
        "\n",
        "predict_button = ttk.Button(predictor_frame, text=\"Predict Points\", command=predict_points)\n",
        "predict_button.grid(column=0, row=5, columnspan=2, pady=10)\n",
        "\n",
        "clear_button = ttk.Button(predictor_frame, text=\"Clear\", command=clear_inputs)\n",
        "clear_button.grid(column=0, row=6, columnspan=2, pady=10)\n",
        "\n",
        "result_label = ttk.Label(predictor_frame, text=\"\")\n",
        "result_label.grid(column=0, row=7, columnspan=2, pady=10)\n",
        "\n",
        "# Dictionary Display UI\n",
        "dictionary_frame = ttk.Frame(app, padding=\"10\")\n",
        "dictionary_frame.grid(row=0, column=1, sticky=(tk.W, tk.E, tk.N, tk.S))\n",
        "\n",
        "display_button = ttk.Button(dictionary_frame, text=\"Display Dictionaries\", command=display_dictionaries)\n",
        "display_button.grid(column=0, row=0, pady=10)\n",
        "\n",
        "display_text = tk.Text(dictionary_frame, wrap=tk.WORD, width=50, height=20)\n",
        "display_text.grid(column=0, row=1)\n",
        "\n",
        "scrollbar = ttk.Scrollbar(dictionary_frame, orient=\"vertical\", command=display_text.yview)\n",
        "scrollbar.grid(column=1, row=1, sticky=(tk.N, tk.S))\n",
        "display_text.config(yscrollcommand=scrollbar.set)\n",
        "\n",
        "decision_path_button = ttk.Button(dictionary_frame, text=\"Display Decision Path\", command=display_decision_path)\n",
        "decision_path_button.grid(column=0, row=3, pady=10)\n",
        "\n",
        "\n",
        "app.mainloop()\n",
        "\n",
        "\n",
        "\n"
      ]
    }
  ],
  "metadata": {
    "colab": {
      "provenance": []
    },
    "kernelspec": {
      "display_name": "Python 3",
      "name": "python3"
    },
    "language_info": {
      "codemirror_mode": {
        "name": "ipython",
        "version": 3
      },
      "file_extension": ".py",
      "mimetype": "text/x-python",
      "name": "python",
      "nbconvert_exporter": "python",
      "pygments_lexer": "ipython3",
      "version": "3.9.13"
    }
  },
  "nbformat": 4,
  "nbformat_minor": 0
}
