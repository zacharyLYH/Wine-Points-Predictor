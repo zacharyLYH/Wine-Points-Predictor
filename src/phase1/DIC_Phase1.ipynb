{
  "cells": [
    {
      "cell_type": "code",
      "execution_count": 1,
      "metadata": {
        "id": "5J2ClLyRVmU1"
      },
      "outputs": [],
      "source": [
        "import pandas as ps\n",
        "import numpy as np\n",
        "import re\n",
        "import csv\n",
        "import matplotlib"
      ]
    },
    {
      "cell_type": "code",
      "execution_count": 2,
      "metadata": {
        "id": "RSHO7iNyVmU3"
      },
      "outputs": [],
      "source": [
        "def openFile(path):\n",
        "    return ps.read_csv(path, index_col=0) #index_col=0 has the effect of excluding any unnamed fields\n",
        "\n",
        "def toDF(rawData):\n",
        "    return ps.DataFrame(rawData)\n",
        "\n",
        "def dropDuplicates(rawData):\n",
        "    return toDF(rawData).drop_duplicates()\n",
        "\n",
        "def filter(df, columns):\n",
        "    return df[columns] \n",
        "\n",
        "def merge(df1, df2, protocol, on):\n",
        "    return ps.merge(df1, df2, how=protocol, on=on)\n",
        "\n",
        "def extractYear(title):\n",
        "    li = re.search('(\\d{4})', title)\n",
        "    if li:\n",
        "        return li[1]\n",
        "    return -1"
      ]
    },
    {
      "cell_type": "code",
      "execution_count": 3,
      "metadata": {
        "colab": {
          "base_uri": "https://localhost:8080/"
        },
        "id": "xcSIan0xb9CB",
        "outputId": "a4044cdb-1fca-4b89-9d77-4b9001767320"
      },
      "outputs": [],
      "source": [
        "# from google.colab import drive\n",
        "# drive.mount('/content/drive')"
      ]
    },
    {
      "cell_type": "code",
      "execution_count": 4,
      "metadata": {
        "colab": {
          "base_uri": "https://localhost:8080/"
        },
        "id": "smr2llNvVmU3",
        "outputId": "10bda6c2-613f-4032-c3c5-102cb4ac9074"
      },
      "outputs": [
        {
          "name": "stdout",
          "output_type": "stream",
          "text": [
            "                                                    title\n",
            "id                                                       \n",
            "0                       Nicosia 2013 Vulkà Bianco  (Etna)\n",
            "1           Quinta dos Avidagos 2011 Avidagos Red (Douro)\n",
            "2           Rainstorm 2013 Pinot Gris (Willamette Valley)\n",
            "3       St. Julian 2013 Reserve Late Harvest Riesling ...\n",
            "4       Sweet Cheeks 2012 Vintner's Reserve Wild Child...\n",
            "...                                                   ...\n",
            "129966  Dr. H. Thanisch (Erben Müller-Burggraef) 2013 ...\n",
            "129967                  Citation 2004 Pinot Noir (Oregon)\n",
            "129968  Domaine Gresser 2013 Kritt Gewurztraminer (Als...\n",
            "129969      Domaine Marcel Deiss 2012 Pinot Gris (Alsace)\n",
            "129970  Domaine Schoffit 2012 Lieu-dit Harth Cuvée Car...\n",
            "\n",
            "[119988 rows x 1 columns]\n"
          ]
        }
      ],
      "source": [
        "# Drop duplicates\n",
        "rawDF = dropDuplicates(openFile('../winemag-data-130k-v2.csv'))\n",
        "print(filter(rawDF, [\"title\"]))"
      ]
    },
    {
      "cell_type": "code",
      "execution_count": 5,
      "metadata": {
        "colab": {
          "base_uri": "https://localhost:8080/"
        },
        "id": "3QA4mAvrVmU4",
        "outputId": "5a79ce96-9eb7-4ad6-8357-8b497a06316d"
      },
      "outputs": [
        {
          "name": "stdout",
          "output_type": "stream",
          "text": [
            "        year\n",
            "id          \n",
            "0       2013\n",
            "1       2011\n",
            "2       2013\n",
            "3       2013\n",
            "4       2012\n",
            "...      ...\n",
            "119983  2013\n",
            "119984  2004\n",
            "119985  2013\n",
            "119986  2012\n",
            "119987  2012\n",
            "\n",
            "[119988 rows x 1 columns]\n"
          ]
        }
      ],
      "source": [
        "# Extract year from dataset\n",
        "with open('../years.csv', 'w', newline='') as file:\n",
        "    writer = csv.writer(file)\n",
        "    writer.writerow([\"id\",\"year\"])\n",
        "    for idx,row in enumerate(filter(rawDF, ['title']).itertuples(index=True, name='Pandas')):\n",
        "        writer.writerow([idx,extractYear(row.title)])\n",
        "\n",
        "newDF = openFile('../years.csv')\n",
        "print(newDF)"
      ]
    },
    {
      "cell_type": "code",
      "execution_count": 6,
      "metadata": {
        "colab": {
          "base_uri": "https://localhost:8080/"
        },
        "id": "0K1uP7iaVmU4",
        "outputId": "b7268c27-7f1a-4b7d-8a35-6f1c12d4cf50"
      },
      "outputs": [
        {
          "name": "stdout",
          "output_type": "stream",
          "text": [
            "         country                                        description  \\\n",
            "id                                                                    \n",
            "0          Italy  Aromas include tropical fruit, broom, brimston...   \n",
            "1       Portugal  This is ripe and fruity, a wine that is smooth...   \n",
            "2             US  Tart and snappy, the flavors of lime flesh and...   \n",
            "3             US  Pineapple rind, lemon pith and orange blossom ...   \n",
            "4             US  Much like the regular bottling from 2012, this...   \n",
            "...          ...                                                ...   \n",
            "119977       NaN                                                NaN   \n",
            "119978       NaN                                                NaN   \n",
            "119979       NaN                                                NaN   \n",
            "119980       NaN                                                NaN   \n",
            "119981       NaN                                                NaN   \n",
            "\n",
            "                               designation  points  price           province  \\\n",
            "id                                                                             \n",
            "0                             Vulkà Bianco    87.0    NaN  Sicily & Sardinia   \n",
            "1                                 Avidagos    87.0   15.0              Douro   \n",
            "2                                      NaN    87.0   14.0             Oregon   \n",
            "3                     Reserve Late Harvest    87.0   13.0           Michigan   \n",
            "4       Vintner's Reserve Wild Child Block    87.0   65.0             Oregon   \n",
            "...                                    ...     ...    ...                ...   \n",
            "119977                                 NaN     NaN    NaN                NaN   \n",
            "119978                                 NaN     NaN    NaN                NaN   \n",
            "119979                                 NaN     NaN    NaN                NaN   \n",
            "119980                                 NaN     NaN    NaN                NaN   \n",
            "119981                                 NaN     NaN    NaN                NaN   \n",
            "\n",
            "                   region_1           region_2         taster_name  \\\n",
            "id                                                                   \n",
            "0                      Etna                NaN       Kerin O’Keefe   \n",
            "1                       NaN                NaN          Roger Voss   \n",
            "2         Willamette Valley  Willamette Valley        Paul Gregutt   \n",
            "3       Lake Michigan Shore                NaN  Alexander Peartree   \n",
            "4         Willamette Valley  Willamette Valley        Paul Gregutt   \n",
            "...                     ...                ...                 ...   \n",
            "119977                  NaN                NaN                 NaN   \n",
            "119978                  NaN                NaN                 NaN   \n",
            "119979                  NaN                NaN                 NaN   \n",
            "119980                  NaN                NaN                 NaN   \n",
            "119981                  NaN                NaN                 NaN   \n",
            "\n",
            "       taster_twitter_handle  \\\n",
            "id                             \n",
            "0               @kerinokeefe   \n",
            "1                 @vossroger   \n",
            "2                @paulgwine    \n",
            "3                        NaN   \n",
            "4                @paulgwine    \n",
            "...                      ...   \n",
            "119977                   NaN   \n",
            "119978                   NaN   \n",
            "119979                   NaN   \n",
            "119980                   NaN   \n",
            "119981                   NaN   \n",
            "\n",
            "                                                    title         variety  \\\n",
            "id                                                                          \n",
            "0                       Nicosia 2013 Vulkà Bianco  (Etna)     White Blend   \n",
            "1           Quinta dos Avidagos 2011 Avidagos Red (Douro)  Portuguese Red   \n",
            "2           Rainstorm 2013 Pinot Gris (Willamette Valley)      Pinot Gris   \n",
            "3       St. Julian 2013 Reserve Late Harvest Riesling ...        Riesling   \n",
            "4       Sweet Cheeks 2012 Vintner's Reserve Wild Child...      Pinot Noir   \n",
            "...                                                   ...             ...   \n",
            "119977                                                NaN             NaN   \n",
            "119978                                                NaN             NaN   \n",
            "119979                                                NaN             NaN   \n",
            "119980                                                NaN             NaN   \n",
            "119981                                                NaN             NaN   \n",
            "\n",
            "                     winery    year  \n",
            "id                                   \n",
            "0                   Nicosia  2013.0  \n",
            "1       Quinta dos Avidagos  2011.0  \n",
            "2                 Rainstorm  2013.0  \n",
            "3                St. Julian  2013.0  \n",
            "4              Sweet Cheeks  2012.0  \n",
            "...                     ...     ...  \n",
            "119977                  NaN  2006.0  \n",
            "119978                  NaN  2013.0  \n",
            "119979                  NaN  2012.0  \n",
            "119980                  NaN  2012.0  \n",
            "119981                  NaN  2013.0  \n",
            "\n",
            "[128584 rows x 14 columns]\n"
          ]
        }
      ],
      "source": [
        "# Merge the two datasets\n",
        "merge(rawDF, newDF, 'outer', \"id\").to_csv('../cleaned.csv')\n",
        "\n",
        "print(openFile('../cleaned.csv'))"
      ]
    },
    {
      "cell_type": "markdown",
      "metadata": {
        "id": "sgLkY6vLVmU5"
      },
      "source": [
        "Using price, points, variety, region1, country, winery, year. Drop everything else."
      ]
    },
    {
      "cell_type": "code",
      "execution_count": 7,
      "metadata": {
        "colab": {
          "base_uri": "https://localhost:8080/"
        },
        "id": "XekndzNeVmU6",
        "outputId": "ff1cfcbb-21c7-4944-cf88-6a77628d9d02"
      },
      "outputs": [
        {
          "name": "stdout",
          "output_type": "stream",
          "text": [
            "                                                    title  price  points  \\\n",
            "id                                                                         \n",
            "0                       Nicosia 2013 Vulkà Bianco  (Etna)    NaN    87.0   \n",
            "1           Quinta dos Avidagos 2011 Avidagos Red (Douro)   15.0    87.0   \n",
            "2           Rainstorm 2013 Pinot Gris (Willamette Valley)   14.0    87.0   \n",
            "3       St. Julian 2013 Reserve Late Harvest Riesling ...   13.0    87.0   \n",
            "4       Sweet Cheeks 2012 Vintner's Reserve Wild Child...   65.0    87.0   \n",
            "...                                                   ...    ...     ...   \n",
            "119977                                                NaN    NaN     NaN   \n",
            "119978                                                NaN    NaN     NaN   \n",
            "119979                                                NaN    NaN     NaN   \n",
            "119980                                                NaN    NaN     NaN   \n",
            "119981                                                NaN    NaN     NaN   \n",
            "\n",
            "               variety             region_1   country               winery  \\\n",
            "id                                                                           \n",
            "0          White Blend                 Etna     Italy              Nicosia   \n",
            "1       Portuguese Red                  NaN  Portugal  Quinta dos Avidagos   \n",
            "2           Pinot Gris    Willamette Valley        US            Rainstorm   \n",
            "3             Riesling  Lake Michigan Shore        US           St. Julian   \n",
            "4           Pinot Noir    Willamette Valley        US         Sweet Cheeks   \n",
            "...                ...                  ...       ...                  ...   \n",
            "119977             NaN                  NaN       NaN                  NaN   \n",
            "119978             NaN                  NaN       NaN                  NaN   \n",
            "119979             NaN                  NaN       NaN                  NaN   \n",
            "119980             NaN                  NaN       NaN                  NaN   \n",
            "119981             NaN                  NaN       NaN                  NaN   \n",
            "\n",
            "          year  \n",
            "id              \n",
            "0       2013.0  \n",
            "1       2011.0  \n",
            "2       2013.0  \n",
            "3       2013.0  \n",
            "4       2012.0  \n",
            "...        ...  \n",
            "119977  2006.0  \n",
            "119978  2013.0  \n",
            "119979  2012.0  \n",
            "119980  2012.0  \n",
            "119981  2013.0  \n",
            "\n",
            "[128584 rows x 8 columns]\n"
          ]
        }
      ],
      "source": [
        "# Filter for interested fields\n",
        "df = filter(toDF(openFile('../cleaned.csv')), [\"title\",\"price\", \"points\", \"variety\", \"region_1\", \"country\", \"winery\", \"year\"])\n",
        "print(df)"
      ]
    },
    {
      "cell_type": "code",
      "execution_count": 8,
      "metadata": {
        "colab": {
          "base_uri": "https://localhost:8080/"
        },
        "id": "wa4x-Nl5VmU6",
        "outputId": "b373695c-35d4-4557-ebb6-43aec7e7e2e1"
      },
      "outputs": [
        {
          "name": "stdout",
          "output_type": "stream",
          "text": [
            "                                                    title  price  points  \\\n",
            "id                                                                         \n",
            "2           Rainstorm 2013 Pinot Gris (Willamette Valley)   14.0    87.0   \n",
            "3       St. Julian 2013 Reserve Late Harvest Riesling ...   13.0    87.0   \n",
            "4       Sweet Cheeks 2012 Vintner's Reserve Wild Child...   65.0    87.0   \n",
            "5       Tandem 2011 Ars In Vitro Tempranillo-Merlot (N...   15.0    87.0   \n",
            "6        Terre di Giurfo 2013 Belsito Frappato (Vittoria)   16.0    87.0   \n",
            "...                                                   ...    ...     ...   \n",
            "119982           El Enemigo 2014 Cabernet Franc (Mendoza)   28.0    90.0   \n",
            "119983       Frank Family 2013 Petite Sirah (Napa Valley)   35.0    90.0   \n",
            "119984  Giacosa Fratelli 2013 Basarin Vigna Gianmatè  ...   55.0    90.0   \n",
            "119986  VGS Chateau Potelle 2015 Eau de Tony Sauvignon...   40.0    90.0   \n",
            "119987  Vinessens 2014 La Casica del Abuelo Red (Alica...   42.0    90.0   \n",
            "\n",
            "                   variety             region_1    country  \\\n",
            "id                                                           \n",
            "2               Pinot Gris    Willamette Valley         US   \n",
            "3                 Riesling  Lake Michigan Shore         US   \n",
            "4               Pinot Noir    Willamette Valley         US   \n",
            "5       Tempranillo-Merlot              Navarra      Spain   \n",
            "6                 Frappato             Vittoria      Italy   \n",
            "...                    ...                  ...        ...   \n",
            "119982      Cabernet Franc              Mendoza  Argentina   \n",
            "119983        Petite Sirah          Napa Valley         US   \n",
            "119984            Nebbiolo           Barbaresco      Italy   \n",
            "119986     Sauvignon Blanc          Napa Valley         US   \n",
            "119987           Red Blend             Alicante      Spain   \n",
            "\n",
            "                     winery    year  \n",
            "id                                   \n",
            "2                 Rainstorm  2013.0  \n",
            "3                St. Julian  2013.0  \n",
            "4              Sweet Cheeks  2012.0  \n",
            "5                    Tandem  2011.0  \n",
            "6           Terre di Giurfo  2013.0  \n",
            "...                     ...     ...  \n",
            "119982           El Enemigo  2013.0  \n",
            "119983         Frank Family  2013.0  \n",
            "119984     Giacosa Fratelli  2004.0  \n",
            "119986  VGS Chateau Potelle  2012.0  \n",
            "119987            Vinessens  2012.0  \n",
            "\n",
            "[86880 rows x 8 columns]\n"
          ]
        }
      ],
      "source": [
        "# Remove any NaN corrupted entries\n",
        "drop = []\n",
        "for idx,row in enumerate(df.itertuples(index=True, name='Pandas')):\n",
        "    for ele in row:\n",
        "        if ps.isna(ele):\n",
        "            drop.append(idx)\n",
        "# Drop the marked rows\n",
        "df.drop(df.index[drop]).to_csv('../cleaned.csv')\n",
        "# Reopen cleaned file\n",
        "df = toDF(openFile('../cleaned.csv'))\n",
        "print(df)"
      ]
    },
    {
      "cell_type": "code",
      "execution_count": 9,
      "metadata": {
        "colab": {
          "base_uri": "https://localhost:8080/"
        },
        "id": "IPgsBMTsVmU6",
        "outputId": "62f795b8-5677-47e0-99ad-1218b48792ce"
      },
      "outputs": [
        {
          "ename": "FileNotFoundError",
          "evalue": "[Errno 2] No such file or directory: 'cleaned.csv'",
          "output_type": "error",
          "traceback": [
            "\u001b[1;31m---------------------------------------------------------------------------\u001b[0m",
            "\u001b[1;31mFileNotFoundError\u001b[0m                         Traceback (most recent call last)",
            "\u001b[1;32mc:\\Users\\Bing Xiong\\Desktop\\DIC\\src1\\DIC_Phase1.ipynb Cell 10\u001b[0m in \u001b[0;36m<module>\u001b[1;34m\u001b[0m\n\u001b[0;32m     <a href='vscode-notebook-cell:/c%3A/Users/Bing%20Xiong/Desktop/DIC/src1/DIC_Phase1.ipynb#X12sZmlsZQ%3D%3D?line=10'>11</a>\u001b[0m df\u001b[39m.\u001b[39mdrop(df\u001b[39m.\u001b[39mindex[drop])\u001b[39m.\u001b[39mto_csv(\u001b[39m'\u001b[39m\u001b[39m../cleaned.csv\u001b[39m\u001b[39m'\u001b[39m)\n\u001b[0;32m     <a href='vscode-notebook-cell:/c%3A/Users/Bing%20Xiong/Desktop/DIC/src1/DIC_Phase1.ipynb#X12sZmlsZQ%3D%3D?line=11'>12</a>\u001b[0m \u001b[39m# Reopen cleaned file\u001b[39;00m\n\u001b[1;32m---> <a href='vscode-notebook-cell:/c%3A/Users/Bing%20Xiong/Desktop/DIC/src1/DIC_Phase1.ipynb#X12sZmlsZQ%3D%3D?line=12'>13</a>\u001b[0m df \u001b[39m=\u001b[39m toDF(openFile(\u001b[39m'\u001b[39;49m\u001b[39mcleaned.csv\u001b[39;49m\u001b[39m'\u001b[39;49m))\n\u001b[0;32m     <a href='vscode-notebook-cell:/c%3A/Users/Bing%20Xiong/Desktop/DIC/src1/DIC_Phase1.ipynb#X12sZmlsZQ%3D%3D?line=13'>14</a>\u001b[0m \u001b[39mprint\u001b[39m(df)\n",
            "\u001b[1;32mc:\\Users\\Bing Xiong\\Desktop\\DIC\\src1\\DIC_Phase1.ipynb Cell 10\u001b[0m in \u001b[0;36mopenFile\u001b[1;34m(path)\u001b[0m\n\u001b[0;32m      <a href='vscode-notebook-cell:/c%3A/Users/Bing%20Xiong/Desktop/DIC/src1/DIC_Phase1.ipynb#X12sZmlsZQ%3D%3D?line=0'>1</a>\u001b[0m \u001b[39mdef\u001b[39;00m \u001b[39mopenFile\u001b[39m(path):\n\u001b[1;32m----> <a href='vscode-notebook-cell:/c%3A/Users/Bing%20Xiong/Desktop/DIC/src1/DIC_Phase1.ipynb#X12sZmlsZQ%3D%3D?line=1'>2</a>\u001b[0m     \u001b[39mreturn\u001b[39;00m ps\u001b[39m.\u001b[39;49mread_csv(path, index_col\u001b[39m=\u001b[39;49m\u001b[39m0\u001b[39;49m)\n",
            "File \u001b[1;32m~\\AppData\\Local\\Packages\\PythonSoftwareFoundation.Python.3.9_qbz5n2kfra8p0\\LocalCache\\local-packages\\Python39\\site-packages\\pandas\\util\\_decorators.py:211\u001b[0m, in \u001b[0;36mdeprecate_kwarg.<locals>._deprecate_kwarg.<locals>.wrapper\u001b[1;34m(*args, **kwargs)\u001b[0m\n\u001b[0;32m    209\u001b[0m     \u001b[39melse\u001b[39;00m:\n\u001b[0;32m    210\u001b[0m         kwargs[new_arg_name] \u001b[39m=\u001b[39m new_arg_value\n\u001b[1;32m--> 211\u001b[0m \u001b[39mreturn\u001b[39;00m func(\u001b[39m*\u001b[39margs, \u001b[39m*\u001b[39m\u001b[39m*\u001b[39mkwargs)\n",
            "File \u001b[1;32m~\\AppData\\Local\\Packages\\PythonSoftwareFoundation.Python.3.9_qbz5n2kfra8p0\\LocalCache\\local-packages\\Python39\\site-packages\\pandas\\util\\_decorators.py:331\u001b[0m, in \u001b[0;36mdeprecate_nonkeyword_arguments.<locals>.decorate.<locals>.wrapper\u001b[1;34m(*args, **kwargs)\u001b[0m\n\u001b[0;32m    325\u001b[0m \u001b[39mif\u001b[39;00m \u001b[39mlen\u001b[39m(args) \u001b[39m>\u001b[39m num_allow_args:\n\u001b[0;32m    326\u001b[0m     warnings\u001b[39m.\u001b[39mwarn(\n\u001b[0;32m    327\u001b[0m         msg\u001b[39m.\u001b[39mformat(arguments\u001b[39m=\u001b[39m_format_argument_list(allow_args)),\n\u001b[0;32m    328\u001b[0m         \u001b[39mFutureWarning\u001b[39;00m,\n\u001b[0;32m    329\u001b[0m         stacklevel\u001b[39m=\u001b[39mfind_stack_level(),\n\u001b[0;32m    330\u001b[0m     )\n\u001b[1;32m--> 331\u001b[0m \u001b[39mreturn\u001b[39;00m func(\u001b[39m*\u001b[39margs, \u001b[39m*\u001b[39m\u001b[39m*\u001b[39mkwargs)\n",
            "File \u001b[1;32m~\\AppData\\Local\\Packages\\PythonSoftwareFoundation.Python.3.9_qbz5n2kfra8p0\\LocalCache\\local-packages\\Python39\\site-packages\\pandas\\io\\parsers\\readers.py:950\u001b[0m, in \u001b[0;36mread_csv\u001b[1;34m(filepath_or_buffer, sep, delimiter, header, names, index_col, usecols, squeeze, prefix, mangle_dupe_cols, dtype, engine, converters, true_values, false_values, skipinitialspace, skiprows, skipfooter, nrows, na_values, keep_default_na, na_filter, verbose, skip_blank_lines, parse_dates, infer_datetime_format, keep_date_col, date_parser, dayfirst, cache_dates, iterator, chunksize, compression, thousands, decimal, lineterminator, quotechar, quoting, doublequote, escapechar, comment, encoding, encoding_errors, dialect, error_bad_lines, warn_bad_lines, on_bad_lines, delim_whitespace, low_memory, memory_map, float_precision, storage_options)\u001b[0m\n\u001b[0;32m    935\u001b[0m kwds_defaults \u001b[39m=\u001b[39m _refine_defaults_read(\n\u001b[0;32m    936\u001b[0m     dialect,\n\u001b[0;32m    937\u001b[0m     delimiter,\n\u001b[1;32m   (...)\u001b[0m\n\u001b[0;32m    946\u001b[0m     defaults\u001b[39m=\u001b[39m{\u001b[39m\"\u001b[39m\u001b[39mdelimiter\u001b[39m\u001b[39m\"\u001b[39m: \u001b[39m\"\u001b[39m\u001b[39m,\u001b[39m\u001b[39m\"\u001b[39m},\n\u001b[0;32m    947\u001b[0m )\n\u001b[0;32m    948\u001b[0m kwds\u001b[39m.\u001b[39mupdate(kwds_defaults)\n\u001b[1;32m--> 950\u001b[0m \u001b[39mreturn\u001b[39;00m _read(filepath_or_buffer, kwds)\n",
            "File \u001b[1;32m~\\AppData\\Local\\Packages\\PythonSoftwareFoundation.Python.3.9_qbz5n2kfra8p0\\LocalCache\\local-packages\\Python39\\site-packages\\pandas\\io\\parsers\\readers.py:605\u001b[0m, in \u001b[0;36m_read\u001b[1;34m(filepath_or_buffer, kwds)\u001b[0m\n\u001b[0;32m    602\u001b[0m _validate_names(kwds\u001b[39m.\u001b[39mget(\u001b[39m\"\u001b[39m\u001b[39mnames\u001b[39m\u001b[39m\"\u001b[39m, \u001b[39mNone\u001b[39;00m))\n\u001b[0;32m    604\u001b[0m \u001b[39m# Create the parser.\u001b[39;00m\n\u001b[1;32m--> 605\u001b[0m parser \u001b[39m=\u001b[39m TextFileReader(filepath_or_buffer, \u001b[39m*\u001b[39m\u001b[39m*\u001b[39mkwds)\n\u001b[0;32m    607\u001b[0m \u001b[39mif\u001b[39;00m chunksize \u001b[39mor\u001b[39;00m iterator:\n\u001b[0;32m    608\u001b[0m     \u001b[39mreturn\u001b[39;00m parser\n",
            "File \u001b[1;32m~\\AppData\\Local\\Packages\\PythonSoftwareFoundation.Python.3.9_qbz5n2kfra8p0\\LocalCache\\local-packages\\Python39\\site-packages\\pandas\\io\\parsers\\readers.py:1442\u001b[0m, in \u001b[0;36mTextFileReader.__init__\u001b[1;34m(self, f, engine, **kwds)\u001b[0m\n\u001b[0;32m   1439\u001b[0m     \u001b[39mself\u001b[39m\u001b[39m.\u001b[39moptions[\u001b[39m\"\u001b[39m\u001b[39mhas_index_names\u001b[39m\u001b[39m\"\u001b[39m] \u001b[39m=\u001b[39m kwds[\u001b[39m\"\u001b[39m\u001b[39mhas_index_names\u001b[39m\u001b[39m\"\u001b[39m]\n\u001b[0;32m   1441\u001b[0m \u001b[39mself\u001b[39m\u001b[39m.\u001b[39mhandles: IOHandles \u001b[39m|\u001b[39m \u001b[39mNone\u001b[39;00m \u001b[39m=\u001b[39m \u001b[39mNone\u001b[39;00m\n\u001b[1;32m-> 1442\u001b[0m \u001b[39mself\u001b[39m\u001b[39m.\u001b[39m_engine \u001b[39m=\u001b[39m \u001b[39mself\u001b[39;49m\u001b[39m.\u001b[39;49m_make_engine(f, \u001b[39mself\u001b[39;49m\u001b[39m.\u001b[39;49mengine)\n",
            "File \u001b[1;32m~\\AppData\\Local\\Packages\\PythonSoftwareFoundation.Python.3.9_qbz5n2kfra8p0\\LocalCache\\local-packages\\Python39\\site-packages\\pandas\\io\\parsers\\readers.py:1735\u001b[0m, in \u001b[0;36mTextFileReader._make_engine\u001b[1;34m(self, f, engine)\u001b[0m\n\u001b[0;32m   1733\u001b[0m     \u001b[39mif\u001b[39;00m \u001b[39m\"\u001b[39m\u001b[39mb\u001b[39m\u001b[39m\"\u001b[39m \u001b[39mnot\u001b[39;00m \u001b[39min\u001b[39;00m mode:\n\u001b[0;32m   1734\u001b[0m         mode \u001b[39m+\u001b[39m\u001b[39m=\u001b[39m \u001b[39m\"\u001b[39m\u001b[39mb\u001b[39m\u001b[39m\"\u001b[39m\n\u001b[1;32m-> 1735\u001b[0m \u001b[39mself\u001b[39m\u001b[39m.\u001b[39mhandles \u001b[39m=\u001b[39m get_handle(\n\u001b[0;32m   1736\u001b[0m     f,\n\u001b[0;32m   1737\u001b[0m     mode,\n\u001b[0;32m   1738\u001b[0m     encoding\u001b[39m=\u001b[39;49m\u001b[39mself\u001b[39;49m\u001b[39m.\u001b[39;49moptions\u001b[39m.\u001b[39;49mget(\u001b[39m\"\u001b[39;49m\u001b[39mencoding\u001b[39;49m\u001b[39m\"\u001b[39;49m, \u001b[39mNone\u001b[39;49;00m),\n\u001b[0;32m   1739\u001b[0m     compression\u001b[39m=\u001b[39;49m\u001b[39mself\u001b[39;49m\u001b[39m.\u001b[39;49moptions\u001b[39m.\u001b[39;49mget(\u001b[39m\"\u001b[39;49m\u001b[39mcompression\u001b[39;49m\u001b[39m\"\u001b[39;49m, \u001b[39mNone\u001b[39;49;00m),\n\u001b[0;32m   1740\u001b[0m     memory_map\u001b[39m=\u001b[39;49m\u001b[39mself\u001b[39;49m\u001b[39m.\u001b[39;49moptions\u001b[39m.\u001b[39;49mget(\u001b[39m\"\u001b[39;49m\u001b[39mmemory_map\u001b[39;49m\u001b[39m\"\u001b[39;49m, \u001b[39mFalse\u001b[39;49;00m),\n\u001b[0;32m   1741\u001b[0m     is_text\u001b[39m=\u001b[39;49mis_text,\n\u001b[0;32m   1742\u001b[0m     errors\u001b[39m=\u001b[39;49m\u001b[39mself\u001b[39;49m\u001b[39m.\u001b[39;49moptions\u001b[39m.\u001b[39;49mget(\u001b[39m\"\u001b[39;49m\u001b[39mencoding_errors\u001b[39;49m\u001b[39m\"\u001b[39;49m, \u001b[39m\"\u001b[39;49m\u001b[39mstrict\u001b[39;49m\u001b[39m\"\u001b[39;49m),\n\u001b[0;32m   1743\u001b[0m     storage_options\u001b[39m=\u001b[39;49m\u001b[39mself\u001b[39;49m\u001b[39m.\u001b[39;49moptions\u001b[39m.\u001b[39;49mget(\u001b[39m\"\u001b[39;49m\u001b[39mstorage_options\u001b[39;49m\u001b[39m\"\u001b[39;49m, \u001b[39mNone\u001b[39;49;00m),\n\u001b[0;32m   1744\u001b[0m )\n\u001b[0;32m   1745\u001b[0m \u001b[39massert\u001b[39;00m \u001b[39mself\u001b[39m\u001b[39m.\u001b[39mhandles \u001b[39mis\u001b[39;00m \u001b[39mnot\u001b[39;00m \u001b[39mNone\u001b[39;00m\n\u001b[0;32m   1746\u001b[0m f \u001b[39m=\u001b[39m \u001b[39mself\u001b[39m\u001b[39m.\u001b[39mhandles\u001b[39m.\u001b[39mhandle\n",
            "File \u001b[1;32m~\\AppData\\Local\\Packages\\PythonSoftwareFoundation.Python.3.9_qbz5n2kfra8p0\\LocalCache\\local-packages\\Python39\\site-packages\\pandas\\io\\common.py:856\u001b[0m, in \u001b[0;36mget_handle\u001b[1;34m(path_or_buf, mode, encoding, compression, memory_map, is_text, errors, storage_options)\u001b[0m\n\u001b[0;32m    851\u001b[0m \u001b[39melif\u001b[39;00m \u001b[39misinstance\u001b[39m(handle, \u001b[39mstr\u001b[39m):\n\u001b[0;32m    852\u001b[0m     \u001b[39m# Check whether the filename is to be opened in binary mode.\u001b[39;00m\n\u001b[0;32m    853\u001b[0m     \u001b[39m# Binary mode does not support 'encoding' and 'newline'.\u001b[39;00m\n\u001b[0;32m    854\u001b[0m     \u001b[39mif\u001b[39;00m ioargs\u001b[39m.\u001b[39mencoding \u001b[39mand\u001b[39;00m \u001b[39m\"\u001b[39m\u001b[39mb\u001b[39m\u001b[39m\"\u001b[39m \u001b[39mnot\u001b[39;00m \u001b[39min\u001b[39;00m ioargs\u001b[39m.\u001b[39mmode:\n\u001b[0;32m    855\u001b[0m         \u001b[39m# Encoding\u001b[39;00m\n\u001b[1;32m--> 856\u001b[0m         handle \u001b[39m=\u001b[39m \u001b[39mopen\u001b[39;49m(\n\u001b[0;32m    857\u001b[0m             handle,\n\u001b[0;32m    858\u001b[0m             ioargs\u001b[39m.\u001b[39;49mmode,\n\u001b[0;32m    859\u001b[0m             encoding\u001b[39m=\u001b[39;49mioargs\u001b[39m.\u001b[39;49mencoding,\n\u001b[0;32m    860\u001b[0m             errors\u001b[39m=\u001b[39;49merrors,\n\u001b[0;32m    861\u001b[0m             newline\u001b[39m=\u001b[39;49m\u001b[39m\"\u001b[39;49m\u001b[39m\"\u001b[39;49m,\n\u001b[0;32m    862\u001b[0m         )\n\u001b[0;32m    863\u001b[0m     \u001b[39melse\u001b[39;00m:\n\u001b[0;32m    864\u001b[0m         \u001b[39m# Binary mode\u001b[39;00m\n\u001b[0;32m    865\u001b[0m         handle \u001b[39m=\u001b[39m \u001b[39mopen\u001b[39m(handle, ioargs\u001b[39m.\u001b[39mmode)\n",
            "\u001b[1;31mFileNotFoundError\u001b[0m: [Errno 2] No such file or directory: 'cleaned.csv'"
          ]
        }
      ],
      "source": [
        "# Remove any negative number entries and such\n",
        "\"\"\"\n",
        "row[2] == price\n",
        "row[3] == points\n",
        "row[8] == year (if year is -1 it means the bottle didn't contain a year and we have no data on it)\n",
        "\"\"\"\n",
        "drop = []\n",
        "for idx,row in enumerate(df.itertuples(index=True, name='Pandas')):\n",
        "    if row[2] < 0 or row[3] < 0 or row[3] > 100 or row[8] == -1:\n",
        "        drop.append(idx)\n",
        "df.drop(df.index[drop]).to_csv('../cleaned.csv')\n",
        "# Reopen cleaned file\n",
        "df = toDF(openFile('cleaned.csv'))\n",
        "print(df)"
      ]
    },
    {
      "cell_type": "code",
      "execution_count": null,
      "metadata": {
        "colab": {
          "base_uri": "https://localhost:8080/",
          "height": 297
        },
        "id": "NyX4RPnTyf60",
        "outputId": "b965129b-f808-4d03-f7bc-72907bb06a2b"
      },
      "outputs": [
        {
          "data": {
            "text/html": [
              "<div>\n",
              "<style scoped>\n",
              "    .dataframe tbody tr th:only-of-type {\n",
              "        vertical-align: middle;\n",
              "    }\n",
              "\n",
              "    .dataframe tbody tr th {\n",
              "        vertical-align: top;\n",
              "    }\n",
              "\n",
              "    .dataframe thead th {\n",
              "        text-align: right;\n",
              "    }\n",
              "</style>\n",
              "<table border=\"1\" class=\"dataframe\">\n",
              "  <thead>\n",
              "    <tr style=\"text-align: right;\">\n",
              "      <th></th>\n",
              "      <th>price</th>\n",
              "      <th>points</th>\n",
              "      <th>year</th>\n",
              "    </tr>\n",
              "  </thead>\n",
              "  <tbody>\n",
              "    <tr>\n",
              "      <th>count</th>\n",
              "      <td>83807.000000</td>\n",
              "      <td>83807.000000</td>\n",
              "      <td>83807.000000</td>\n",
              "    </tr>\n",
              "    <tr>\n",
              "      <th>mean</th>\n",
              "      <td>36.960433</td>\n",
              "      <td>88.438579</td>\n",
              "      <td>2010.354087</td>\n",
              "    </tr>\n",
              "    <tr>\n",
              "      <th>std</th>\n",
              "      <td>42.522720</td>\n",
              "      <td>3.095273</td>\n",
              "      <td>9.020459</td>\n",
              "    </tr>\n",
              "    <tr>\n",
              "      <th>min</th>\n",
              "      <td>4.000000</td>\n",
              "      <td>80.000000</td>\n",
              "      <td>1000.000000</td>\n",
              "    </tr>\n",
              "    <tr>\n",
              "      <th>25%</th>\n",
              "      <td>18.000000</td>\n",
              "      <td>86.000000</td>\n",
              "      <td>2009.000000</td>\n",
              "    </tr>\n",
              "    <tr>\n",
              "      <th>50%</th>\n",
              "      <td>28.000000</td>\n",
              "      <td>88.000000</td>\n",
              "      <td>2011.000000</td>\n",
              "    </tr>\n",
              "    <tr>\n",
              "      <th>75%</th>\n",
              "      <td>45.000000</td>\n",
              "      <td>91.000000</td>\n",
              "      <td>2013.000000</td>\n",
              "    </tr>\n",
              "    <tr>\n",
              "      <th>max</th>\n",
              "      <td>3300.000000</td>\n",
              "      <td>100.000000</td>\n",
              "      <td>2017.000000</td>\n",
              "    </tr>\n",
              "  </tbody>\n",
              "</table>\n",
              "</div>"
            ],
            "text/plain": [
              "              price        points          year\n",
              "count  83807.000000  83807.000000  83807.000000\n",
              "mean      36.960433     88.438579   2010.354087\n",
              "std       42.522720      3.095273      9.020459\n",
              "min        4.000000     80.000000   1000.000000\n",
              "25%       18.000000     86.000000   2009.000000\n",
              "50%       28.000000     88.000000   2011.000000\n",
              "75%       45.000000     91.000000   2013.000000\n",
              "max     3300.000000    100.000000   2017.000000"
            ]
          },
          "execution_count": 14,
          "metadata": {},
          "output_type": "execute_result"
        }
      ],
      "source": [
        "df.describe()"
      ]
    },
    {
      "cell_type": "markdown",
      "metadata": {
        "id": "SGdUEmBB9is7"
      },
      "source": [
        "In this first EDA, we're trying to further find odd looking data. Notice that we have year 7200 in our dataset. "
      ]
    },
    {
      "cell_type": "code",
      "execution_count": null,
      "metadata": {
        "colab": {
          "base_uri": "https://localhost:8080/"
        },
        "id": "jz3V9aoZyiE7",
        "outputId": "94ad7c35-582f-4d70-ecf3-dc7571b3ce7b"
      },
      "outputs": [
        {
          "name": "stdout",
          "output_type": "stream",
          "text": [
            "                                                    title  price  points  \\\n",
            "id                                                                         \n",
            "2           Rainstorm 2013 Pinot Gris (Willamette Valley)   14.0    87.0   \n",
            "3       St. Julian 2013 Reserve Late Harvest Riesling ...   13.0    87.0   \n",
            "4       Sweet Cheeks 2012 Vintner's Reserve Wild Child...   65.0    87.0   \n",
            "5       Tandem 2011 Ars In Vitro Tempranillo-Merlot (N...   15.0    87.0   \n",
            "6        Terre di Giurfo 2013 Belsito Frappato (Vittoria)   16.0    87.0   \n",
            "...                                                   ...    ...     ...   \n",
            "119982           El Enemigo 2014 Cabernet Franc (Mendoza)   28.0    90.0   \n",
            "119983       Frank Family 2013 Petite Sirah (Napa Valley)   35.0    90.0   \n",
            "119984  Giacosa Fratelli 2013 Basarin Vigna Gianmatè  ...   55.0    90.0   \n",
            "119986  VGS Chateau Potelle 2015 Eau de Tony Sauvignon...   40.0    90.0   \n",
            "119987  Vinessens 2014 La Casica del Abuelo Red (Alica...   42.0    90.0   \n",
            "\n",
            "                   variety             region_1    country  \\\n",
            "id                                                           \n",
            "2               Pinot Gris    Willamette Valley         US   \n",
            "3                 Riesling  Lake Michigan Shore         US   \n",
            "4               Pinot Noir    Willamette Valley         US   \n",
            "5       Tempranillo-Merlot              Navarra      Spain   \n",
            "6                 Frappato             Vittoria      Italy   \n",
            "...                    ...                  ...        ...   \n",
            "119982      Cabernet Franc              Mendoza  Argentina   \n",
            "119983        Petite Sirah          Napa Valley         US   \n",
            "119984            Nebbiolo           Barbaresco      Italy   \n",
            "119986     Sauvignon Blanc          Napa Valley         US   \n",
            "119987           Red Blend             Alicante      Spain   \n",
            "\n",
            "                     winery    year  \n",
            "id                                   \n",
            "2                 Rainstorm  2013.0  \n",
            "3                St. Julian  2013.0  \n",
            "4              Sweet Cheeks  2012.0  \n",
            "5                    Tandem  2011.0  \n",
            "6           Terre di Giurfo  2013.0  \n",
            "...                     ...     ...  \n",
            "119982           El Enemigo  2013.0  \n",
            "119983         Frank Family  2013.0  \n",
            "119984     Giacosa Fratelli  2004.0  \n",
            "119986  VGS Chateau Potelle  2012.0  \n",
            "119987            Vinessens  2012.0  \n",
            "\n",
            "[83807 rows x 8 columns]\n"
          ]
        }
      ],
      "source": [
        "drop = []\n",
        "for idx,row in enumerate(df.itertuples(index=True, name='Pandas')):\n",
        "    if row[8] > 2023:\n",
        "        drop.append(idx)\n",
        "df.drop(df.index[drop]).to_csv('../cleaned.csv')\n",
        "# Reopen cleaned file\n",
        "df = toDF(openFile('cleaned.csv'))\n",
        "print(df)"
      ]
    },
    {
      "cell_type": "code",
      "execution_count": null,
      "metadata": {
        "colab": {
          "base_uri": "https://localhost:8080/",
          "height": 297
        },
        "id": "su_WIBHMy0uL",
        "outputId": "f97bb503-4f81-4fa2-c4b5-1d985505cb43"
      },
      "outputs": [
        {
          "data": {
            "text/html": [
              "<div>\n",
              "<style scoped>\n",
              "    .dataframe tbody tr th:only-of-type {\n",
              "        vertical-align: middle;\n",
              "    }\n",
              "\n",
              "    .dataframe tbody tr th {\n",
              "        vertical-align: top;\n",
              "    }\n",
              "\n",
              "    .dataframe thead th {\n",
              "        text-align: right;\n",
              "    }\n",
              "</style>\n",
              "<table border=\"1\" class=\"dataframe\">\n",
              "  <thead>\n",
              "    <tr style=\"text-align: right;\">\n",
              "      <th></th>\n",
              "      <th>price</th>\n",
              "      <th>points</th>\n",
              "      <th>year</th>\n",
              "    </tr>\n",
              "  </thead>\n",
              "  <tbody>\n",
              "    <tr>\n",
              "      <th>count</th>\n",
              "      <td>83807.000000</td>\n",
              "      <td>83807.000000</td>\n",
              "      <td>83807.000000</td>\n",
              "    </tr>\n",
              "    <tr>\n",
              "      <th>mean</th>\n",
              "      <td>36.960433</td>\n",
              "      <td>88.438579</td>\n",
              "      <td>2010.354087</td>\n",
              "    </tr>\n",
              "    <tr>\n",
              "      <th>std</th>\n",
              "      <td>42.522720</td>\n",
              "      <td>3.095273</td>\n",
              "      <td>9.020459</td>\n",
              "    </tr>\n",
              "    <tr>\n",
              "      <th>min</th>\n",
              "      <td>4.000000</td>\n",
              "      <td>80.000000</td>\n",
              "      <td>1000.000000</td>\n",
              "    </tr>\n",
              "    <tr>\n",
              "      <th>25%</th>\n",
              "      <td>18.000000</td>\n",
              "      <td>86.000000</td>\n",
              "      <td>2009.000000</td>\n",
              "    </tr>\n",
              "    <tr>\n",
              "      <th>50%</th>\n",
              "      <td>28.000000</td>\n",
              "      <td>88.000000</td>\n",
              "      <td>2011.000000</td>\n",
              "    </tr>\n",
              "    <tr>\n",
              "      <th>75%</th>\n",
              "      <td>45.000000</td>\n",
              "      <td>91.000000</td>\n",
              "      <td>2013.000000</td>\n",
              "    </tr>\n",
              "    <tr>\n",
              "      <th>max</th>\n",
              "      <td>3300.000000</td>\n",
              "      <td>100.000000</td>\n",
              "      <td>2017.000000</td>\n",
              "    </tr>\n",
              "  </tbody>\n",
              "</table>\n",
              "</div>"
            ],
            "text/plain": [
              "              price        points          year\n",
              "count  83807.000000  83807.000000  83807.000000\n",
              "mean      36.960433     88.438579   2010.354087\n",
              "std       42.522720      3.095273      9.020459\n",
              "min        4.000000     80.000000   1000.000000\n",
              "25%       18.000000     86.000000   2009.000000\n",
              "50%       28.000000     88.000000   2011.000000\n",
              "75%       45.000000     91.000000   2013.000000\n",
              "max     3300.000000    100.000000   2017.000000"
            ]
          },
          "execution_count": 16,
          "metadata": {},
          "output_type": "execute_result"
        }
      ],
      "source": [
        "df.describe()"
      ]
    },
    {
      "cell_type": "markdown",
      "metadata": {
        "id": "HrQBzzCj91CV"
      },
      "source": [
        "This EDA serves to confirm integrity of our data. Looks good so far. "
      ]
    },
    {
      "cell_type": "code",
      "execution_count": null,
      "metadata": {
        "colab": {
          "base_uri": "https://localhost:8080/",
          "height": 1000
        },
        "id": "Nn5qeWnKzQ-m",
        "outputId": "cde6ff9b-d6ad-4106-ba63-c1e77e91ffd4"
      },
      "outputs": [
        {
          "data": {
            "text/plain": [
              "array([[<Axes: title={'center': '80.0'}>,\n",
              "        <Axes: title={'center': '81.0'}>,\n",
              "        <Axes: title={'center': '82.0'}>,\n",
              "        <Axes: title={'center': '83.0'}>,\n",
              "        <Axes: title={'center': '84.0'}>],\n",
              "       [<Axes: title={'center': '85.0'}>,\n",
              "        <Axes: title={'center': '86.0'}>,\n",
              "        <Axes: title={'center': '87.0'}>,\n",
              "        <Axes: title={'center': '88.0'}>,\n",
              "        <Axes: title={'center': '89.0'}>],\n",
              "       [<Axes: title={'center': '90.0'}>,\n",
              "        <Axes: title={'center': '91.0'}>,\n",
              "        <Axes: title={'center': '92.0'}>,\n",
              "        <Axes: title={'center': '93.0'}>,\n",
              "        <Axes: title={'center': '94.0'}>],\n",
              "       [<Axes: title={'center': '95.0'}>,\n",
              "        <Axes: title={'center': '96.0'}>,\n",
              "        <Axes: title={'center': '97.0'}>,\n",
              "        <Axes: title={'center': '98.0'}>,\n",
              "        <Axes: title={'center': '99.0'}>],\n",
              "       [<Axes: title={'center': '100.0'}>, <Axes: >, <Axes: >, <Axes: >,\n",
              "        <Axes: >]], dtype=object)"
            ]
          },
          "execution_count": 17,
          "metadata": {},
          "output_type": "execute_result"
        },
        {
          "data": {
            "image/png": "[encoded data removed]",
            "text/plain": [
              "<Figure size 1008x1008 with 25 Axes>"
            ]
          },
          "metadata": {
            "needs_background": "light"
          },
          "output_type": "display_data"
        }
      ],
      "source": [
        "df.hist(column='price', by='points', bins=25, figsize=(14,14), grid=False) "
      ]
    },
    {
      "cell_type": "markdown",
      "metadata": {
        "id": "CWRvhllA-IFu"
      },
      "source": [
        "In this EDA step, we ask for each of the possible wine points (80-100), how are they generally priced and how many of them are priced like that. As we can see, it seems like most wines are priced well below 1000, with most of the prices looking like they're around the $50 mark. "
      ]
    },
    {
      "cell_type": "code",
      "execution_count": null,
      "metadata": {
        "colab": {
          "base_uri": "https://localhost:8080/",
          "height": 749
        },
        "id": "O5Gtu9HuZC9q",
        "outputId": "8fd05645-a351-45d4-b3bf-b71adf0d7100"
      },
      "outputs": [
        {
          "data": {
            "text/plain": [
              "array([[<Axes: title={'center': 'Argentina'}>,\n",
              "        <Axes: title={'center': 'Australia'}>,\n",
              "        <Axes: title={'center': 'Canada'}>],\n",
              "       [<Axes: title={'center': 'France'}>,\n",
              "        <Axes: title={'center': 'Italy'}>,\n",
              "        <Axes: title={'center': 'Spain'}>],\n",
              "       [<Axes: title={'center': 'US'}>, <Axes: >, <Axes: >]], dtype=object)"
            ]
          },
          "execution_count": 18,
          "metadata": {},
          "output_type": "execute_result"
        },
        {
          "data": {
            "image/png": "[encoded data removed]",
            "text/plain": [
              "<Figure size 720x720 with 9 Axes>"
            ]
          },
          "metadata": {
            "needs_background": "light"
          },
          "output_type": "display_data"
        }
      ],
      "source": [
        "df.hist(column='price', by='country', bins=7, figsize=(10,10), grid=False) "
      ]
    },
    {
      "cell_type": "markdown",
      "metadata": {
        "id": "nYg35uwK-5mt"
      },
      "source": [
        "Next, we plot price against country. Notice that most wines seem to come from the US, with Italy and France following behind. Our histogram here also confirms that pricess tend to fall well below 200. "
      ]
    },
    {
      "cell_type": "code",
      "execution_count": null,
      "metadata": {
        "colab": {
          "base_uri": "https://localhost:8080/",
          "height": 840
        },
        "id": "DYvfPlZgCi_Q",
        "outputId": "f5b7eb98-22e3-49c3-e17c-3e1de333a566"
      },
      "outputs": [
        {
          "data": {
            "text/plain": [
              "<Axes: xlabel='price', ylabel='year'>"
            ]
          },
          "execution_count": 19,
          "metadata": {},
          "output_type": "execute_result"
        },
        {
          "data": {
            "image/png": "[encoded data removed]",
            "text/plain": [
              "<Figure size 1008x1008 with 1 Axes>"
            ]
          },
          "metadata": {
            "needs_background": "light"
          },
          "output_type": "display_data"
        }
      ],
      "source": [
        "df.plot.scatter(x='price',y='year',c='DarkBlue', figsize=(14,14))"
      ]
    },
    {
      "cell_type": "markdown",
      "metadata": {
        "id": "RQg9JnKn_Z2q"
      },
      "source": [
        "In this scatterplot, yet again we confirm the fact that most wines fall under 200. Interestingly, in this plot we see that most of our wine is gathered around and above year 2000 (y-axis). Through the scatterplot, we see that wines between 1800 - 2000 are also a significant amount, with those under 1800 being sparse and extremely rare. "
      ]
    },
    {
      "cell_type": "markdown",
      "metadata": {
        "id": "iS2g3lqoytia"
      },
      "source": [
        "### Cleaning checklist\n",
        "- Drop obvious duplicates\n",
        "- Extract years from titles of wine\n",
        "- Joined years as a feature for the dataset\n",
        "- Dropped unnecessary columns\n",
        "- Drop any rows with at least one NaN value\n",
        "- Drop any rows with negative price, points, and year values (Counts for 3 cleaning steps)\n",
        "- Drop years greater than 2023\n",
        "> Total 9"
      ]
    },
    {
      "cell_type": "code",
      "execution_count": null,
      "metadata": {
        "colab": {
          "base_uri": "https://localhost:8080/",
          "height": 296
        },
        "id": "RSX0xhfEt6yR",
        "outputId": "4fe7ab2e-66ff-43af-8316-170a60bba325"
      },
      "outputs": [
        {
          "data": {
            "text/plain": [
              "<Axes: xlabel='points', ylabel='price'>"
            ]
          },
          "execution_count": 20,
          "metadata": {},
          "output_type": "execute_result"
        },
        {
          "data": {
            "image/png": "[encoded data removed]",
            "text/plain": [
              "<Figure size 432x288 with 1 Axes>"
            ]
          },
          "metadata": {
            "needs_background": "light"
          },
          "output_type": "display_data"
        }
      ],
      "source": [
        "df.plot.scatter(x='points',y='price',c='DarkBlue')"
      ]
    },
    {
      "cell_type": "markdown",
      "metadata": {
        "id": "5rOLpkw2AYF5"
      },
      "source": [
        "We do another price to point plot, this time with a scatterplot. Here we learn that wines generally don't vary in price too much, and when they do they tend to be on the right hand side. "
      ]
    },
    {
      "cell_type": "code",
      "execution_count": null,
      "metadata": {
        "colab": {
          "base_uri": "https://localhost:8080/",
          "height": 916
        },
        "id": "6P4QDxa6uVMH",
        "outputId": "e110609c-6bb0-480e-e58c-847bbfdc6069"
      },
      "outputs": [
        {
          "data": {
            "text/plain": [
              "<Axes: title={'center': 'price'}, xlabel='points'>"
            ]
          },
          "execution_count": 21,
          "metadata": {},
          "output_type": "execute_result"
        },
        {
          "data": {
            "image/png": "[encoded data removed]",
            "text/plain": [
              "<Figure size 1008x1008 with 1 Axes>"
            ]
          },
          "metadata": {
            "needs_background": "light"
          },
          "output_type": "display_data"
        }
      ],
      "source": [
        "df.boxplot(by='points',column=['price'], figsize=(14,14))"
      ]
    },
    {
      "cell_type": "markdown",
      "metadata": {
        "id": "3Mpv5C2QBgbd"
      },
      "source": [
        "From this box plot, it seems to show that as points go up, so will prices. However, we notice quite a bit of variance across the board, and confirm that the variance seems to grow more dramatically toward the side with greater points. "
      ]
    },
    {
      "cell_type": "markdown",
      "metadata": {
        "id": "2x16hh4Wu1Ri"
      },
      "source": [
        "# EDA checklist\n",
        "- Box plot points vs price\n",
        "- Scatter plot points vs price\n",
        "- Historgram points vs country\n",
        "- Histogram price vs points\n",
        "- 2 describes\n",
        "- Scatter plot price vs year\n",
        "\n",
        "#### Total 7\n",
        "\n"
      ]
    }
  ],
  "metadata": {
    "colab": {
      "provenance": []
    },
    "kernelspec": {
      "display_name": "Python 3",
      "language": "python",
      "name": "python3"
    },
    "language_info": {
      "codemirror_mode": {
        "name": "ipython",
        "version": 3
      },
      "file_extension": ".py",
      "mimetype": "text/x-python",
      "name": "python",
      "nbconvert_exporter": "python",
      "pygments_lexer": "ipython3",
      "version": "3.9.13"
    },
    "orig_nbformat": 4,
    "vscode": {
      "interpreter": {
        "hash": "f30c2b9cbe4629f6e9cf277293233476e83888d9f2ad1dea62841663227fcf2b"
      }
    }
  },
  "nbformat": 4,
  "nbformat_minor": 0
}
